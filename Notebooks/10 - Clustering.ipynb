{
  "cells": [
    {
      "metadata": {
        "state": "normal"
      },
      "cell_type": "markdown",
      "source": "# Clustering Algorithms\n\n## Unsupervised Learning\n\nOur previous models have all been various instances of **supervised learning**, in which we attempt to determine the class to which an observation belongs from among a *known group of classes*. **Unsupervised learning** is used where we are uncertain of exactly how our data should be divided. In the case of internet browsing, determining whether or not a viewer will click an online advertisement is a case of supervised learning. On the other hand, trying to group individuals who shop on a particular website in order to make recommendations of other items they might wish to buy is a case of unsupervised learning.\n\nIn unsupervised learning, we need to be aware that we **do not know** how many groups exist, and that there are no \"correct\" labels. Unsupervised learning is better thought of as part of the data exploration process than as an end result of data modeling. We can use unsupervised learning to better understand our customers (or other groups!), but the results of unsupervised learning are unlikely to have value outside of their contribution in helping us to categorize various groups within our data.\n\n## Why Make Clusters?\n\nAs we seek to understand our data, finding data-driven groups may be valuable in aiding our efforts to understand the patterns that we are seeking. For example, clustering observations based on observable data may reveal that what we believed to be a single outcome was in fact several different outcomes that look similar in some ways but distinct in others. \n\nImagine that you work for a website that sells both macOS and Windows computers. You know that individuals with higher income in your data tend to buy more expensive computers (think larger hard drives, larger screens, more RAM, etc.). Clustering algorithms may reveal the disctinctions between individuals who choose macOS or Windows computers in a way that allows you to better understand the needs of each type of consumer. You might observe that individuals who play computer games tend to purchase Windows computers, and can make recommendations to those individuals accordingly, while it becomes apparent that macOS consumers prefer to purchase design software such as photo or video editing programs. It is even possible that there is a third group, some of whom purchase macOS computers while others purchase Windows computers, and who focus on web/software design. This third group might be a great opportunity to promote additional monitors to keep more windows open! \n\nClustering allows us to reveal these patterns within our data.\n\n## Agglomerative Clustering\n\nAgglomerative clustering is one of two popular clustering algorithms (the other is K-means clustering), and lends itself particularly well to visual analysis. Agglomerative clustering is also very easy to understand. The process for creating clusters is:\n\n1. Measure the distance between all observations/groups\n2. Combine the two observations or groups that are the smallest distance from one another\n3. Record the new group\n4. Repeat steps 1 to 3 until only one group remains\n5. Map the process of combining (agglomerating) observations and groups to form a dendrogram\n6. Choose the appropriate level of clustering, and note the groups to which each observation belongs\n\nWhen you are finished, you will have a dendrogram, which will look very similar to a decision tree:\n\n![](https://f1000researchdata.s3.amazonaws.com/manuscripts/10884/292fd343-e909-466c-9f2d-4f6b9aa4c44e_figure1.gif)\n\nThe higher up the visual two observations or groups join together, the less similar they are. Conversely, like observations and groups will join together lower down the visual."
    },
    {
      "metadata": {
        "state": "normal"
      },
      "cell_type": "markdown",
      "source": "## Using `sklearn` to Cluster digits\n\nNow it's time to make our own clusters. Let's explore MNIST with clusters. First, we need to import the data. We will import it, and then create a SMALL sample in order to make our visuals easier to follow."
    },
    {
      "metadata": {
        "trusted": true
      },
      "cell_type": "code",
      "source": "import pandas as pd\n\n# Read in data\ndata = pd.read_csv(\"https://github.com/dustywhite7/pythonMikkeli/blob/master/exampleData/mnistTrain.csv?raw=true\")\n\n# Grab 10 observations of each digit (0 to 9)\ndata = data.groupby('Label').apply(lambda x: x.sample(n=10)).reset_index(drop=True)",
      "execution_count": 3,
      "outputs": [
        {
          "output_type": "execute_result",
          "execution_count": 3,
          "data": {
            "text/plain": "    Label  0  1  2  3  4  5  6  7  8  ...  774  775  776  777  778  779  780  \\\n0       0  0  0  0  0  0  0  0  0  0  ...  0.0  0.0  0.0  0.0  0.0    0    0   \n1       0  0  0  0  0  0  0  0  0  0  ...  0.0  0.0  0.0  0.0  0.0    0    0   \n2       0  0  0  0  0  0  0  0  0  0  ...  0.0  0.0  0.0  0.0  0.0    0    0   \n3       0  0  0  0  0  0  0  0  0  0  ...  0.0  0.0  0.0  0.0  0.0    0    0   \n4       0  0  0  0  0  0  0  0  0  0  ...  0.0  0.0  0.0  0.0  0.0    0    0   \n..    ... .. .. .. .. .. .. .. .. ..  ...  ...  ...  ...  ...  ...  ...  ...   \n95      9  0  0  0  0  0  0  0  0  0  ...  0.0  0.0  0.0  0.0  0.0    0    0   \n96      9  0  0  0  0  0  0  0  0  0  ...  0.0  0.0  0.0  0.0  0.0    0    0   \n97      9  0  0  0  0  0  0  0  0  0  ...  0.0  0.0  0.0  0.0  0.0    0    0   \n98      9  0  0  0  0  0  0  0  0  0  ...  0.0  0.0  0.0  0.0  0.0    0    0   \n99      9  0  0  0  0  0  0  0  0  0  ...  0.0  0.0  0.0  0.0  0.0    0    0   \n\n    781  782  783  \n0     0    0    0  \n1     0    0    0  \n2     0    0    0  \n3     0    0    0  \n4     0    0    0  \n..  ...  ...  ...  \n95    0    0    0  \n96    0    0    0  \n97    0    0    0  \n98    0    0    0  \n99    0    0    0  \n\n[100 rows x 785 columns]",
            "text/html": "<div>\n<style scoped>\n    .dataframe tbody tr th:only-of-type {\n        vertical-align: middle;\n    }\n\n    .dataframe tbody tr th {\n        vertical-align: top;\n    }\n\n    .dataframe thead th {\n        text-align: right;\n    }\n</style>\n<table border=\"1\" class=\"dataframe\">\n  <thead>\n    <tr style=\"text-align: right;\">\n      <th></th>\n      <th>Label</th>\n      <th>0</th>\n      <th>1</th>\n      <th>2</th>\n      <th>3</th>\n      <th>4</th>\n      <th>5</th>\n      <th>6</th>\n      <th>7</th>\n      <th>8</th>\n      <th>...</th>\n      <th>774</th>\n      <th>775</th>\n      <th>776</th>\n      <th>777</th>\n      <th>778</th>\n      <th>779</th>\n      <th>780</th>\n      <th>781</th>\n      <th>782</th>\n      <th>783</th>\n    </tr>\n  </thead>\n  <tbody>\n    <tr>\n      <th>0</th>\n      <td>0</td>\n      <td>0</td>\n      <td>0</td>\n      <td>0</td>\n      <td>0</td>\n      <td>0</td>\n      <td>0</td>\n      <td>0</td>\n      <td>0</td>\n      <td>0</td>\n      <td>...</td>\n      <td>0.0</td>\n      <td>0.0</td>\n      <td>0.0</td>\n      <td>0.0</td>\n      <td>0.0</td>\n      <td>0</td>\n      <td>0</td>\n      <td>0</td>\n      <td>0</td>\n      <td>0</td>\n    </tr>\n    <tr>\n      <th>1</th>\n      <td>0</td>\n      <td>0</td>\n      <td>0</td>\n      <td>0</td>\n      <td>0</td>\n      <td>0</td>\n      <td>0</td>\n      <td>0</td>\n      <td>0</td>\n      <td>0</td>\n      <td>...</td>\n      <td>0.0</td>\n      <td>0.0</td>\n      <td>0.0</td>\n      <td>0.0</td>\n      <td>0.0</td>\n      <td>0</td>\n      <td>0</td>\n      <td>0</td>\n      <td>0</td>\n      <td>0</td>\n    </tr>\n    <tr>\n      <th>2</th>\n      <td>0</td>\n      <td>0</td>\n      <td>0</td>\n      <td>0</td>\n      <td>0</td>\n      <td>0</td>\n      <td>0</td>\n      <td>0</td>\n      <td>0</td>\n      <td>0</td>\n      <td>...</td>\n      <td>0.0</td>\n      <td>0.0</td>\n      <td>0.0</td>\n      <td>0.0</td>\n      <td>0.0</td>\n      <td>0</td>\n      <td>0</td>\n      <td>0</td>\n      <td>0</td>\n      <td>0</td>\n    </tr>\n    <tr>\n      <th>3</th>\n      <td>0</td>\n      <td>0</td>\n      <td>0</td>\n      <td>0</td>\n      <td>0</td>\n      <td>0</td>\n      <td>0</td>\n      <td>0</td>\n      <td>0</td>\n      <td>0</td>\n      <td>...</td>\n      <td>0.0</td>\n      <td>0.0</td>\n      <td>0.0</td>\n      <td>0.0</td>\n      <td>0.0</td>\n      <td>0</td>\n      <td>0</td>\n      <td>0</td>\n      <td>0</td>\n      <td>0</td>\n    </tr>\n    <tr>\n      <th>4</th>\n      <td>0</td>\n      <td>0</td>\n      <td>0</td>\n      <td>0</td>\n      <td>0</td>\n      <td>0</td>\n      <td>0</td>\n      <td>0</td>\n      <td>0</td>\n      <td>0</td>\n      <td>...</td>\n      <td>0.0</td>\n      <td>0.0</td>\n      <td>0.0</td>\n      <td>0.0</td>\n      <td>0.0</td>\n      <td>0</td>\n      <td>0</td>\n      <td>0</td>\n      <td>0</td>\n      <td>0</td>\n    </tr>\n    <tr>\n      <th>...</th>\n      <td>...</td>\n      <td>...</td>\n      <td>...</td>\n      <td>...</td>\n      <td>...</td>\n      <td>...</td>\n      <td>...</td>\n      <td>...</td>\n      <td>...</td>\n      <td>...</td>\n      <td>...</td>\n      <td>...</td>\n      <td>...</td>\n      <td>...</td>\n      <td>...</td>\n      <td>...</td>\n      <td>...</td>\n      <td>...</td>\n      <td>...</td>\n      <td>...</td>\n      <td>...</td>\n    </tr>\n    <tr>\n      <th>95</th>\n      <td>9</td>\n      <td>0</td>\n      <td>0</td>\n      <td>0</td>\n      <td>0</td>\n      <td>0</td>\n      <td>0</td>\n      <td>0</td>\n      <td>0</td>\n      <td>0</td>\n      <td>...</td>\n      <td>0.0</td>\n      <td>0.0</td>\n      <td>0.0</td>\n      <td>0.0</td>\n      <td>0.0</td>\n      <td>0</td>\n      <td>0</td>\n      <td>0</td>\n      <td>0</td>\n      <td>0</td>\n    </tr>\n    <tr>\n      <th>96</th>\n      <td>9</td>\n      <td>0</td>\n      <td>0</td>\n      <td>0</td>\n      <td>0</td>\n      <td>0</td>\n      <td>0</td>\n      <td>0</td>\n      <td>0</td>\n      <td>0</td>\n      <td>...</td>\n      <td>0.0</td>\n      <td>0.0</td>\n      <td>0.0</td>\n      <td>0.0</td>\n      <td>0.0</td>\n      <td>0</td>\n      <td>0</td>\n      <td>0</td>\n      <td>0</td>\n      <td>0</td>\n    </tr>\n    <tr>\n      <th>97</th>\n      <td>9</td>\n      <td>0</td>\n      <td>0</td>\n      <td>0</td>\n      <td>0</td>\n      <td>0</td>\n      <td>0</td>\n      <td>0</td>\n      <td>0</td>\n      <td>0</td>\n      <td>...</td>\n      <td>0.0</td>\n      <td>0.0</td>\n      <td>0.0</td>\n      <td>0.0</td>\n      <td>0.0</td>\n      <td>0</td>\n      <td>0</td>\n      <td>0</td>\n      <td>0</td>\n      <td>0</td>\n    </tr>\n    <tr>\n      <th>98</th>\n      <td>9</td>\n      <td>0</td>\n      <td>0</td>\n      <td>0</td>\n      <td>0</td>\n      <td>0</td>\n      <td>0</td>\n      <td>0</td>\n      <td>0</td>\n      <td>0</td>\n      <td>...</td>\n      <td>0.0</td>\n      <td>0.0</td>\n      <td>0.0</td>\n      <td>0.0</td>\n      <td>0.0</td>\n      <td>0</td>\n      <td>0</td>\n      <td>0</td>\n      <td>0</td>\n      <td>0</td>\n    </tr>\n    <tr>\n      <th>99</th>\n      <td>9</td>\n      <td>0</td>\n      <td>0</td>\n      <td>0</td>\n      <td>0</td>\n      <td>0</td>\n      <td>0</td>\n      <td>0</td>\n      <td>0</td>\n      <td>0</td>\n      <td>...</td>\n      <td>0.0</td>\n      <td>0.0</td>\n      <td>0.0</td>\n      <td>0.0</td>\n      <td>0.0</td>\n      <td>0</td>\n      <td>0</td>\n      <td>0</td>\n      <td>0</td>\n      <td>0</td>\n    </tr>\n  </tbody>\n</table>\n<p>100 rows × 785 columns</p>\n</div>"
          },
          "metadata": {}
        }
      ]
    },
    {
      "metadata": {},
      "cell_type": "markdown",
      "source": "Next, we can create our clusters using `sklearn`:"
    },
    {
      "metadata": {
        "trusted": true
      },
      "cell_type": "code",
      "source": "from sklearn.cluster import AgglomerativeClustering\n\ny = data['Label']\nx = data.drop('Label', axis=1)\n\nclusters = AgglomerativeClustering(distance_threshold=0, n_clusters=None).fit(x)",
      "execution_count": 10,
      "outputs": []
    },
    {
      "metadata": {},
      "cell_type": "markdown",
      "source": "By setting our `distance_threshold=0` and `n_clusters=None`, we have asked that our dendrogram be fully-formed, so that each group can be combined with all other groups, and we will not stop at any particular number of groups. If we know that we expect there to be three distinct categories of observations, then we would instead set `distance_threshold=None` and `n_clusters=3`. If `distance_threshold` is `None`, then `n_clusters` must be specified, and vice versa.\n\nWe can also use the `fit_predict()` method to both fit the tree and return a list of the clusters to which each observation belongs in order to include the cluster variable in future analyses:"
    },
    {
      "metadata": {
        "trusted": true
      },
      "cell_type": "code",
      "source": "# I specify 10 groups, because MNIST has 10 unique labels\n\nAgglomerativeClustering(distance_threshold=None, n_clusters=10).fit_predict(x)",
      "execution_count": 16,
      "outputs": [
        {
          "output_type": "execute_result",
          "execution_count": 16,
          "data": {
            "text/plain": "array([6, 4, 2, 4, 6, 4, 4, 6, 4, 6, 8, 8, 8, 8, 8, 8, 8, 8, 8, 8, 1, 1,\n       1, 6, 6, 1, 1, 1, 2, 1, 2, 2, 2, 2, 2, 2, 2, 2, 2, 2, 0, 0, 9, 0,\n       9, 3, 0, 7, 3, 7, 0, 0, 6, 0, 2, 2, 6, 0, 6, 1, 5, 5, 9, 5, 9, 5,\n       5, 5, 9, 5, 8, 3, 3, 3, 3, 3, 3, 3, 3, 7, 2, 6, 2, 2, 6, 2, 2, 8,\n       2, 2, 3, 7, 0, 0, 7, 7, 7, 3, 7, 0])"
          },
          "metadata": {}
        }
      ]
    },
    {
      "metadata": {},
      "cell_type": "markdown",
      "source": "## Plotting the dendrogram\n\nTo make our lives easy, `plotly` includes a pre-built agglomeration clustering algorithm that we can use to visualize our data:"
    },
    {
      "metadata": {
        "trusted": true
      },
      "cell_type": "code",
      "source": "# Import statements\nimport plotly.figure_factory as ff\nimport plotly.offline as py\n\npy.init_notebook_mode(connected=True)\n\n# Create the dendrogram\nfig = ff.create_dendrogram(x, orientation = 'left')\n\n# Make the figure look nice\nfig.update_xaxes(title=\"Difference Level\", tickangle=90)\nfig.update_yaxes(title=\"Observation\")\nfig.layout.title = \"Dendrogram of MNIST\"\nfig.layout.width=600\nfig.layout.height=1200\n\n# Plot the figure\npy.iplot(fig)",
      "execution_count": 63,
      "outputs": [
        {
          "output_type": "display_data",
          "data": {
            "text/html": "        <script type=\"text/javascript\">\n        window.PlotlyConfig = {MathJaxConfig: 'local'};\n        if (window.MathJax) {MathJax.Hub.Config({SVG: {font: \"STIX-Web\"}});}\n        if (typeof require !== 'undefined') {\n        require.undef(\"plotly\");\n        requirejs.config({\n            paths: {\n                'plotly': ['https://cdn.plot.ly/plotly-latest.min']\n            }\n        });\n        require(['plotly'], function(Plotly) {\n            window._Plotly = Plotly;\n        });\n        }\n        </script>\n        "
          },
          "metadata": {}
        },
        {
          "output_type": "display_data",
          "data": {
            "application/vnd.plotly.v1+json": {
              "config": {
                "linkText": "Export to plot.ly",
                "plotlyServerURL": "https://plot.ly",
                "showLink": false
              },
              "data": [
                {
                  "hoverinfo": "text",
                  "marker": {
                    "color": "rgb(61,153,112)"
                  },
                  "mode": "lines",
                  "type": "scatter",
                  "uid": "ba80d290-a449-4915-89d7-32e5fbceafed",
                  "x": [
                    0,
                    7.497310040089794,
                    7.497310040089794,
                    0
                  ],
                  "xaxis": "x",
                  "y": [
                    -15,
                    -15,
                    -25,
                    -25
                  ],
                  "yaxis": "y"
                },
                {
                  "hoverinfo": "text",
                  "marker": {
                    "color": "rgb(61,153,112)"
                  },
                  "mode": "lines",
                  "type": "scatter",
                  "uid": "cbc744cb-da74-44c5-b465-c47186cdfaa4",
                  "x": [
                    0,
                    8.36940934087332,
                    8.36940934087332,
                    7.497310040089794
                  ],
                  "xaxis": "x",
                  "y": [
                    -5,
                    -5,
                    -20,
                    -20
                  ],
                  "yaxis": "y"
                },
                {
                  "hoverinfo": "text",
                  "marker": {
                    "color": "rgb(255,65,54)"
                  },
                  "mode": "lines",
                  "type": "scatter",
                  "uid": "f7794013-7e25-4a0c-875c-858cdc76c4be",
                  "x": [
                    0,
                    9.78711264936221,
                    9.78711264936221,
                    0
                  ],
                  "xaxis": "x",
                  "y": [
                    -35,
                    -35,
                    -45,
                    -45
                  ],
                  "yaxis": "y"
                },
                {
                  "hoverinfo": "text",
                  "marker": {
                    "color": "rgb(0,116,217)"
                  },
                  "mode": "lines",
                  "type": "scatter",
                  "uid": "91ddaa34-d016-4447-aede-23f226e6fefc",
                  "x": [
                    8.36940934087332,
                    11.446405209034507,
                    11.446405209034507,
                    9.78711264936221
                  ],
                  "xaxis": "x",
                  "y": [
                    -12.5,
                    -12.5,
                    -40,
                    -40
                  ],
                  "yaxis": "y"
                },
                {
                  "hoverinfo": "text",
                  "marker": {
                    "color": "rgb(35,205,205)"
                  },
                  "mode": "lines",
                  "type": "scatter",
                  "uid": "afc6a533-cbd6-47ee-9dc5-a4e5b1429ba7",
                  "x": [
                    0,
                    8.038568123505785,
                    8.038568123505785,
                    0
                  ],
                  "xaxis": "x",
                  "y": [
                    -55,
                    -55,
                    -65,
                    -65
                  ],
                  "yaxis": "y"
                },
                {
                  "hoverinfo": "text",
                  "marker": {
                    "color": "rgb(35,205,205)"
                  },
                  "mode": "lines",
                  "type": "scatter",
                  "uid": "95efb792-1395-4e5d-84fa-ac9f08150ee0",
                  "x": [
                    0,
                    7.334106072504406,
                    7.334106072504406,
                    0
                  ],
                  "xaxis": "x",
                  "y": [
                    -85,
                    -85,
                    -95,
                    -95
                  ],
                  "yaxis": "y"
                },
                {
                  "hoverinfo": "text",
                  "marker": {
                    "color": "rgb(35,205,205)"
                  },
                  "mode": "lines",
                  "type": "scatter",
                  "uid": "0f733bef-bfd2-4412-85aa-a3ad22ffff3c",
                  "x": [
                    0,
                    9.128068260064126,
                    9.128068260064126,
                    7.334106072504406
                  ],
                  "xaxis": "x",
                  "y": [
                    -75,
                    -75,
                    -90,
                    -90
                  ],
                  "yaxis": "y"
                },
                {
                  "hoverinfo": "text",
                  "marker": {
                    "color": "rgb(35,205,205)"
                  },
                  "mode": "lines",
                  "type": "scatter",
                  "uid": "c5c904be-3858-47d5-8f3b-2ba0f9935786",
                  "x": [
                    8.038568123505785,
                    9.956572369705176,
                    9.956572369705176,
                    9.128068260064126
                  ],
                  "xaxis": "x",
                  "y": [
                    -60,
                    -60,
                    -82.5,
                    -82.5
                  ],
                  "yaxis": "y"
                },
                {
                  "hoverinfo": "text",
                  "marker": {
                    "color": "rgb(133,20,75)"
                  },
                  "mode": "lines",
                  "type": "scatter",
                  "uid": "869dad9a-578b-4e9d-a74a-0dd16886dc10",
                  "x": [
                    0,
                    6.393217762570534,
                    6.393217762570534,
                    0
                  ],
                  "xaxis": "x",
                  "y": [
                    -115,
                    -115,
                    -125,
                    -125
                  ],
                  "yaxis": "y"
                },
                {
                  "hoverinfo": "text",
                  "marker": {
                    "color": "rgb(133,20,75)"
                  },
                  "mode": "lines",
                  "type": "scatter",
                  "uid": "7e9c6575-8186-491c-ab03-9be2be273fbc",
                  "x": [
                    0,
                    8.518748349381235,
                    8.518748349381235,
                    6.393217762570534
                  ],
                  "xaxis": "x",
                  "y": [
                    -105,
                    -105,
                    -120,
                    -120
                  ],
                  "yaxis": "y"
                },
                {
                  "hoverinfo": "text",
                  "marker": {
                    "color": "rgb(133,20,75)"
                  },
                  "mode": "lines",
                  "type": "scatter",
                  "uid": "169cdf70-1037-44fa-a600-a1ffd3620e1d",
                  "x": [
                    0,
                    6.661687875946001,
                    6.661687875946001,
                    0
                  ],
                  "xaxis": "x",
                  "y": [
                    -135,
                    -135,
                    -145,
                    -145
                  ],
                  "yaxis": "y"
                },
                {
                  "hoverinfo": "text",
                  "marker": {
                    "color": "rgb(133,20,75)"
                  },
                  "mode": "lines",
                  "type": "scatter",
                  "uid": "1bb3fb22-ca84-4f12-bd55-5bdffd46e3f7",
                  "x": [
                    0,
                    7.031864641069221,
                    7.031864641069221,
                    0
                  ],
                  "xaxis": "x",
                  "y": [
                    -155,
                    -155,
                    -165,
                    -165
                  ],
                  "yaxis": "y"
                },
                {
                  "hoverinfo": "text",
                  "marker": {
                    "color": "rgb(133,20,75)"
                  },
                  "mode": "lines",
                  "type": "scatter",
                  "uid": "63122280-de4d-48e3-8c19-1dd7a837949d",
                  "x": [
                    6.661687875946001,
                    8.541538371123945,
                    8.541538371123945,
                    7.031864641069221
                  ],
                  "xaxis": "x",
                  "y": [
                    -140,
                    -140,
                    -160,
                    -160
                  ],
                  "yaxis": "y"
                },
                {
                  "hoverinfo": "text",
                  "marker": {
                    "color": "rgb(133,20,75)"
                  },
                  "mode": "lines",
                  "type": "scatter",
                  "uid": "5a4a9262-8c2e-4b53-9eec-4f649cd2daf7",
                  "x": [
                    0,
                    3.1241146375380264,
                    3.1241146375380264,
                    0
                  ],
                  "xaxis": "x",
                  "y": [
                    -195,
                    -195,
                    -205,
                    -205
                  ],
                  "yaxis": "y"
                },
                {
                  "hoverinfo": "text",
                  "marker": {
                    "color": "rgb(133,20,75)"
                  },
                  "mode": "lines",
                  "type": "scatter",
                  "uid": "743f58af-2a50-4c31-af2c-a4c5e279c22e",
                  "x": [
                    0,
                    3.6344373625310884,
                    3.6344373625310884,
                    3.1241146375380264
                  ],
                  "xaxis": "x",
                  "y": [
                    -185,
                    -185,
                    -200,
                    -200
                  ],
                  "yaxis": "y"
                },
                {
                  "hoverinfo": "text",
                  "marker": {
                    "color": "rgb(133,20,75)"
                  },
                  "mode": "lines",
                  "type": "scatter",
                  "uid": "2dbaccee-00f7-4436-aa6d-6997b11354c0",
                  "x": [
                    0,
                    2.9325101075316415,
                    2.9325101075316415,
                    0
                  ],
                  "xaxis": "x",
                  "y": [
                    -235,
                    -235,
                    -245,
                    -245
                  ],
                  "yaxis": "y"
                },
                {
                  "hoverinfo": "text",
                  "marker": {
                    "color": "rgb(133,20,75)"
                  },
                  "mode": "lines",
                  "type": "scatter",
                  "uid": "05dca6b8-6d22-4062-a628-634dd38113c7",
                  "x": [
                    0,
                    3.571580332952868,
                    3.571580332952868,
                    2.9325101075316415
                  ],
                  "xaxis": "x",
                  "y": [
                    -225,
                    -225,
                    -240,
                    -240
                  ],
                  "yaxis": "y"
                },
                {
                  "hoverinfo": "text",
                  "marker": {
                    "color": "rgb(133,20,75)"
                  },
                  "mode": "lines",
                  "type": "scatter",
                  "uid": "23cd428e-af2b-4e12-9c11-8e753eef080e",
                  "x": [
                    0,
                    4.678155242529851,
                    4.678155242529851,
                    3.571580332952868
                  ],
                  "xaxis": "x",
                  "y": [
                    -215,
                    -215,
                    -232.5,
                    -232.5
                  ],
                  "yaxis": "y"
                },
                {
                  "hoverinfo": "text",
                  "marker": {
                    "color": "rgb(133,20,75)"
                  },
                  "mode": "lines",
                  "type": "scatter",
                  "uid": "3efec179-0017-4e6b-9f36-aa2d5eea46b2",
                  "x": [
                    3.6344373625310884,
                    5.433201361439654,
                    5.433201361439654,
                    4.678155242529851
                  ],
                  "xaxis": "x",
                  "y": [
                    -192.5,
                    -192.5,
                    -223.75,
                    -223.75
                  ],
                  "yaxis": "y"
                },
                {
                  "hoverinfo": "text",
                  "marker": {
                    "color": "rgb(133,20,75)"
                  },
                  "mode": "lines",
                  "type": "scatter",
                  "uid": "bb918e13-ad69-4598-8aaf-151144c102b9",
                  "x": [
                    0,
                    7.43360099032007,
                    7.43360099032007,
                    5.433201361439654
                  ],
                  "xaxis": "x",
                  "y": [
                    -175,
                    -175,
                    -208.125,
                    -208.125
                  ],
                  "yaxis": "y"
                },
                {
                  "hoverinfo": "text",
                  "marker": {
                    "color": "rgb(133,20,75)"
                  },
                  "mode": "lines",
                  "type": "scatter",
                  "uid": "f5482436-6069-4aab-a1b9-3beffa435727",
                  "x": [
                    0,
                    6.990536801261761,
                    6.990536801261761,
                    0
                  ],
                  "xaxis": "x",
                  "y": [
                    -265,
                    -265,
                    -275,
                    -275
                  ],
                  "yaxis": "y"
                },
                {
                  "hoverinfo": "text",
                  "marker": {
                    "color": "rgb(133,20,75)"
                  },
                  "mode": "lines",
                  "type": "scatter",
                  "uid": "d1654094-535a-4a6d-a6dd-a074d375201a",
                  "x": [
                    0,
                    8.09267543046496,
                    8.09267543046496,
                    6.990536801261761
                  ],
                  "xaxis": "x",
                  "y": [
                    -255,
                    -255,
                    -270,
                    -270
                  ],
                  "yaxis": "y"
                },
                {
                  "hoverinfo": "text",
                  "marker": {
                    "color": "rgb(133,20,75)"
                  },
                  "mode": "lines",
                  "type": "scatter",
                  "uid": "e3f9d625-2187-4116-a4fe-9db2286d8471",
                  "x": [
                    7.43360099032007,
                    9.444259265179001,
                    9.444259265179001,
                    8.09267543046496
                  ],
                  "xaxis": "x",
                  "y": [
                    -191.5625,
                    -191.5625,
                    -262.5,
                    -262.5
                  ],
                  "yaxis": "y"
                },
                {
                  "hoverinfo": "text",
                  "marker": {
                    "color": "rgb(133,20,75)"
                  },
                  "mode": "lines",
                  "type": "scatter",
                  "uid": "4896fd6c-b2fe-43a4-8e01-edb1ceebdc08",
                  "x": [
                    8.541538371123945,
                    9.659774817571693,
                    9.659774817571693,
                    9.444259265179001
                  ],
                  "xaxis": "x",
                  "y": [
                    -150,
                    -150,
                    -227.03125,
                    -227.03125
                  ],
                  "yaxis": "y"
                },
                {
                  "hoverinfo": "text",
                  "marker": {
                    "color": "rgb(133,20,75)"
                  },
                  "mode": "lines",
                  "type": "scatter",
                  "uid": "71fea16d-b1df-4804-af2f-a774316f26e1",
                  "x": [
                    8.518748349381235,
                    10.118106842888572,
                    10.118106842888572,
                    9.659774817571693
                  ],
                  "xaxis": "x",
                  "y": [
                    -112.5,
                    -112.5,
                    -188.515625,
                    -188.515625
                  ],
                  "yaxis": "y"
                },
                {
                  "hoverinfo": "text",
                  "marker": {
                    "color": "rgb(255,220,0)"
                  },
                  "mode": "lines",
                  "type": "scatter",
                  "uid": "e8f610a9-b1ff-4dc3-9abe-610273c31987",
                  "x": [
                    0,
                    7.221359660222094,
                    7.221359660222094,
                    0
                  ],
                  "xaxis": "x",
                  "y": [
                    -285,
                    -285,
                    -295,
                    -295
                  ],
                  "yaxis": "y"
                },
                {
                  "hoverinfo": "text",
                  "marker": {
                    "color": "rgb(255,220,0)"
                  },
                  "mode": "lines",
                  "type": "scatter",
                  "uid": "79025895-f464-455e-88c9-ab92568e11d7",
                  "x": [
                    0,
                    6.912921333248215,
                    6.912921333248215,
                    0
                  ],
                  "xaxis": "x",
                  "y": [
                    -315,
                    -315,
                    -325,
                    -325
                  ],
                  "yaxis": "y"
                },
                {
                  "hoverinfo": "text",
                  "marker": {
                    "color": "rgb(255,220,0)"
                  },
                  "mode": "lines",
                  "type": "scatter",
                  "uid": "c1e2a2f2-23b6-4f26-acc7-c951f62f9560",
                  "x": [
                    0,
                    7.922567399680231,
                    7.922567399680231,
                    6.912921333248215
                  ],
                  "xaxis": "x",
                  "y": [
                    -305,
                    -305,
                    -320,
                    -320
                  ],
                  "yaxis": "y"
                },
                {
                  "hoverinfo": "text",
                  "marker": {
                    "color": "rgb(255,220,0)"
                  },
                  "mode": "lines",
                  "type": "scatter",
                  "uid": "c7dd8017-baff-4450-8789-62b4111e789a",
                  "x": [
                    7.221359660222094,
                    8.836410640949797,
                    8.836410640949797,
                    7.922567399680231
                  ],
                  "xaxis": "x",
                  "y": [
                    -290,
                    -290,
                    -312.5,
                    -312.5
                  ],
                  "yaxis": "y"
                },
                {
                  "hoverinfo": "text",
                  "marker": {
                    "color": "rgb(40,35,35)"
                  },
                  "mode": "lines",
                  "type": "scatter",
                  "uid": "19943651-702d-4a1f-b324-fabadbe6d859",
                  "x": [
                    0,
                    4.933459582603641,
                    4.933459582603641,
                    0
                  ],
                  "xaxis": "x",
                  "y": [
                    -365,
                    -365,
                    -375,
                    -375
                  ],
                  "yaxis": "y"
                },
                {
                  "hoverinfo": "text",
                  "marker": {
                    "color": "rgb(40,35,35)"
                  },
                  "mode": "lines",
                  "type": "scatter",
                  "uid": "cd2c6fec-0182-4283-ab58-bf4f7e128a3e",
                  "x": [
                    0,
                    7.014675670407977,
                    7.014675670407977,
                    4.933459582603641
                  ],
                  "xaxis": "x",
                  "y": [
                    -355,
                    -355,
                    -370,
                    -370
                  ],
                  "yaxis": "y"
                },
                {
                  "hoverinfo": "text",
                  "marker": {
                    "color": "rgb(40,35,35)"
                  },
                  "mode": "lines",
                  "type": "scatter",
                  "uid": "733c1e16-bce1-40cf-b4a1-60f99a01c3be",
                  "x": [
                    0,
                    7.759304914651912,
                    7.759304914651912,
                    7.014675670407977
                  ],
                  "xaxis": "x",
                  "y": [
                    -345,
                    -345,
                    -362.5,
                    -362.5
                  ],
                  "yaxis": "y"
                },
                {
                  "hoverinfo": "text",
                  "marker": {
                    "color": "rgb(40,35,35)"
                  },
                  "mode": "lines",
                  "type": "scatter",
                  "uid": "247fccc1-c067-40de-9446-4c43ab3a24de",
                  "x": [
                    0,
                    9.174124889947356,
                    9.174124889947356,
                    7.759304914651912
                  ],
                  "xaxis": "x",
                  "y": [
                    -335,
                    -335,
                    -353.75,
                    -353.75
                  ],
                  "yaxis": "y"
                },
                {
                  "hoverinfo": "text",
                  "marker": {
                    "color": "rgb(0,116,217)"
                  },
                  "mode": "lines",
                  "type": "scatter",
                  "uid": "5c8434e1-daaa-499a-bbdc-9bb2e8a99812",
                  "x": [
                    8.836410640949797,
                    10.495246724307767,
                    10.495246724307767,
                    9.174124889947356
                  ],
                  "xaxis": "x",
                  "y": [
                    -301.25,
                    -301.25,
                    -344.375,
                    -344.375
                  ],
                  "yaxis": "y"
                },
                {
                  "hoverinfo": "text",
                  "marker": {
                    "color": "rgb(0,116,217)"
                  },
                  "mode": "lines",
                  "type": "scatter",
                  "uid": "3454af47-bdad-43b3-a1ef-94d2b24931c7",
                  "x": [
                    10.118106842888572,
                    10.803360007753295,
                    10.803360007753295,
                    10.495246724307767
                  ],
                  "xaxis": "x",
                  "y": [
                    -150.5078125,
                    -150.5078125,
                    -322.8125,
                    -322.8125
                  ],
                  "yaxis": "y"
                },
                {
                  "hoverinfo": "text",
                  "marker": {
                    "color": "rgb(0,116,217)"
                  },
                  "mode": "lines",
                  "type": "scatter",
                  "uid": "9b290a50-0bba-4e70-a75b-96d1dee37e6f",
                  "x": [
                    9.956572369705176,
                    11.799182165778666,
                    11.799182165778666,
                    10.803360007753295
                  ],
                  "xaxis": "x",
                  "y": [
                    -71.25,
                    -71.25,
                    -236.66015625,
                    -236.66015625
                  ],
                  "yaxis": "y"
                },
                {
                  "hoverinfo": "text",
                  "marker": {
                    "color": "rgb(61,153,112)"
                  },
                  "mode": "lines",
                  "type": "scatter",
                  "uid": "cda400f7-e576-423b-bb81-1bf6999c670c",
                  "x": [
                    0,
                    6.117613121572196,
                    6.117613121572196,
                    0
                  ],
                  "xaxis": "x",
                  "y": [
                    -395,
                    -395,
                    -405,
                    -405
                  ],
                  "yaxis": "y"
                },
                {
                  "hoverinfo": "text",
                  "marker": {
                    "color": "rgb(61,153,112)"
                  },
                  "mode": "lines",
                  "type": "scatter",
                  "uid": "5af63596-ec91-4352-943d-8c102e4bae9b",
                  "x": [
                    0,
                    9.888539925729546,
                    9.888539925729546,
                    6.117613121572196
                  ],
                  "xaxis": "x",
                  "y": [
                    -385,
                    -385,
                    -400,
                    -400
                  ],
                  "yaxis": "y"
                },
                {
                  "hoverinfo": "text",
                  "marker": {
                    "color": "rgb(255,65,54)"
                  },
                  "mode": "lines",
                  "type": "scatter",
                  "uid": "afad5214-6934-4cc1-8484-f89448d2037b",
                  "x": [
                    0,
                    7.701528480246831,
                    7.701528480246831,
                    0
                  ],
                  "xaxis": "x",
                  "y": [
                    -415,
                    -415,
                    -425,
                    -425
                  ],
                  "yaxis": "y"
                },
                {
                  "hoverinfo": "text",
                  "marker": {
                    "color": "rgb(35,205,205)"
                  },
                  "mode": "lines",
                  "type": "scatter",
                  "uid": "c4ecefa8-f4f8-4c6d-bf1b-c5692528e587",
                  "x": [
                    0,
                    8.576377346097456,
                    8.576377346097456,
                    0
                  ],
                  "xaxis": "x",
                  "y": [
                    -435,
                    -435,
                    -445,
                    -445
                  ],
                  "yaxis": "y"
                },
                {
                  "hoverinfo": "text",
                  "marker": {
                    "color": "rgb(0,116,217)"
                  },
                  "mode": "lines",
                  "type": "scatter",
                  "uid": "3679669c-c0b7-4b7c-a410-790a46e92901",
                  "x": [
                    7.701528480246831,
                    10.934549262389142,
                    10.934549262389142,
                    8.576377346097456
                  ],
                  "xaxis": "x",
                  "y": [
                    -420,
                    -420,
                    -440,
                    -440
                  ],
                  "yaxis": "y"
                },
                {
                  "hoverinfo": "text",
                  "marker": {
                    "color": "rgb(0,116,217)"
                  },
                  "mode": "lines",
                  "type": "scatter",
                  "uid": "f6856d36-16e1-451c-8191-fa88385fe1b5",
                  "x": [
                    9.888539925729546,
                    12.192969150324544,
                    12.192969150324544,
                    10.934549262389142
                  ],
                  "xaxis": "x",
                  "y": [
                    -392.5,
                    -392.5,
                    -430,
                    -430
                  ],
                  "yaxis": "y"
                },
                {
                  "hoverinfo": "text",
                  "marker": {
                    "color": "rgb(0,116,217)"
                  },
                  "mode": "lines",
                  "type": "scatter",
                  "uid": "3b432859-cc16-4463-85c5-0dfad34febe9",
                  "x": [
                    11.799182165778666,
                    12.640248053989845,
                    12.640248053989845,
                    12.192969150324544
                  ],
                  "xaxis": "x",
                  "y": [
                    -153.955078125,
                    -153.955078125,
                    -411.25,
                    -411.25
                  ],
                  "yaxis": "y"
                },
                {
                  "hoverinfo": "text",
                  "marker": {
                    "color": "rgb(133,20,75)"
                  },
                  "mode": "lines",
                  "type": "scatter",
                  "uid": "1faa7f51-5dd2-47ca-b6fe-8d2e75765f32",
                  "x": [
                    0,
                    6.9117544156842,
                    6.9117544156842,
                    0
                  ],
                  "xaxis": "x",
                  "y": [
                    -465,
                    -465,
                    -475,
                    -475
                  ],
                  "yaxis": "y"
                },
                {
                  "hoverinfo": "text",
                  "marker": {
                    "color": "rgb(133,20,75)"
                  },
                  "mode": "lines",
                  "type": "scatter",
                  "uid": "6c259e9e-f085-42e6-ae99-4386956e7b4e",
                  "x": [
                    0,
                    6.9869984165739085,
                    6.9869984165739085,
                    6.9117544156842
                  ],
                  "xaxis": "x",
                  "y": [
                    -455,
                    -455,
                    -470,
                    -470
                  ],
                  "yaxis": "y"
                },
                {
                  "hoverinfo": "text",
                  "marker": {
                    "color": "rgb(133,20,75)"
                  },
                  "mode": "lines",
                  "type": "scatter",
                  "uid": "38c6a1cf-8c65-4106-8e3a-f1551ffe71bd",
                  "x": [
                    0,
                    4.175485478142256,
                    4.175485478142256,
                    0
                  ],
                  "xaxis": "x",
                  "y": [
                    -505,
                    -505,
                    -515,
                    -515
                  ],
                  "yaxis": "y"
                },
                {
                  "hoverinfo": "text",
                  "marker": {
                    "color": "rgb(133,20,75)"
                  },
                  "mode": "lines",
                  "type": "scatter",
                  "uid": "5eccb2ac-a52d-4842-8252-926064cdb3e4",
                  "x": [
                    0,
                    6.018311158668487,
                    6.018311158668487,
                    4.175485478142256
                  ],
                  "xaxis": "x",
                  "y": [
                    -495,
                    -495,
                    -510,
                    -510
                  ],
                  "yaxis": "y"
                },
                {
                  "hoverinfo": "text",
                  "marker": {
                    "color": "rgb(133,20,75)"
                  },
                  "mode": "lines",
                  "type": "scatter",
                  "uid": "fc2ff870-af98-4af7-b9e1-29c6021f9f4a",
                  "x": [
                    0,
                    7.665628534680131,
                    7.665628534680131,
                    6.018311158668487
                  ],
                  "xaxis": "x",
                  "y": [
                    -485,
                    -485,
                    -502.5,
                    -502.5
                  ],
                  "yaxis": "y"
                },
                {
                  "hoverinfo": "text",
                  "marker": {
                    "color": "rgb(133,20,75)"
                  },
                  "mode": "lines",
                  "type": "scatter",
                  "uid": "df503594-cb38-4b70-8720-76d16cb4e15b",
                  "x": [
                    6.9869984165739085,
                    9.343143633268157,
                    9.343143633268157,
                    7.665628534680131
                  ],
                  "xaxis": "x",
                  "y": [
                    -462.5,
                    -462.5,
                    -493.75,
                    -493.75
                  ],
                  "yaxis": "y"
                },
                {
                  "hoverinfo": "text",
                  "marker": {
                    "color": "rgb(255,220,0)"
                  },
                  "mode": "lines",
                  "type": "scatter",
                  "uid": "645e62a0-353e-4067-bfb6-f786de323458",
                  "x": [
                    0,
                    7.2487424842251995,
                    7.2487424842251995,
                    0
                  ],
                  "xaxis": "x",
                  "y": [
                    -525,
                    -525,
                    -535,
                    -535
                  ],
                  "yaxis": "y"
                },
                {
                  "hoverinfo": "text",
                  "marker": {
                    "color": "rgb(40,35,35)"
                  },
                  "mode": "lines",
                  "type": "scatter",
                  "uid": "7f7d2f98-c474-434a-948c-1670d7edd1c9",
                  "x": [
                    0,
                    8.939768552269182,
                    8.939768552269182,
                    0
                  ],
                  "xaxis": "x",
                  "y": [
                    -545,
                    -545,
                    -555,
                    -555
                  ],
                  "yaxis": "y"
                },
                {
                  "hoverinfo": "text",
                  "marker": {
                    "color": "rgb(0,116,217)"
                  },
                  "mode": "lines",
                  "type": "scatter",
                  "uid": "9468b39f-92fd-4ee8-b146-79b1812027a5",
                  "x": [
                    7.2487424842251995,
                    10.304915346999726,
                    10.304915346999726,
                    8.939768552269182
                  ],
                  "xaxis": "x",
                  "y": [
                    -530,
                    -530,
                    -550,
                    -550
                  ],
                  "yaxis": "y"
                },
                {
                  "hoverinfo": "text",
                  "marker": {
                    "color": "rgb(0,116,217)"
                  },
                  "mode": "lines",
                  "type": "scatter",
                  "uid": "1527bb02-4bdb-426c-85ba-5709574ff98f",
                  "x": [
                    9.343143633268157,
                    10.994113975229508,
                    10.994113975229508,
                    10.304915346999726
                  ],
                  "xaxis": "x",
                  "y": [
                    -478.125,
                    -478.125,
                    -540,
                    -540
                  ],
                  "yaxis": "y"
                },
                {
                  "hoverinfo": "text",
                  "marker": {
                    "color": "rgb(61,153,112)"
                  },
                  "mode": "lines",
                  "type": "scatter",
                  "uid": "06333938-da69-4b91-a059-44e6011571ad",
                  "x": [
                    0,
                    7.485565758310931,
                    7.485565758310931,
                    0
                  ],
                  "xaxis": "x",
                  "y": [
                    -565,
                    -565,
                    -575,
                    -575
                  ],
                  "yaxis": "y"
                },
                {
                  "hoverinfo": "text",
                  "marker": {
                    "color": "rgb(61,153,112)"
                  },
                  "mode": "lines",
                  "type": "scatter",
                  "uid": "da4610f2-3573-4ed5-8403-cd0bab63a119",
                  "x": [
                    0,
                    7.855939552322733,
                    7.855939552322733,
                    0
                  ],
                  "xaxis": "x",
                  "y": [
                    -595,
                    -595,
                    -605,
                    -605
                  ],
                  "yaxis": "y"
                },
                {
                  "hoverinfo": "text",
                  "marker": {
                    "color": "rgb(61,153,112)"
                  },
                  "mode": "lines",
                  "type": "scatter",
                  "uid": "0e4cf21c-f064-47ff-9510-b81bb2b12729",
                  "x": [
                    0,
                    8.66927030335403,
                    8.66927030335403,
                    7.855939552322733
                  ],
                  "xaxis": "x",
                  "y": [
                    -585,
                    -585,
                    -600,
                    -600
                  ],
                  "yaxis": "y"
                },
                {
                  "hoverinfo": "text",
                  "marker": {
                    "color": "rgb(61,153,112)"
                  },
                  "mode": "lines",
                  "type": "scatter",
                  "uid": "5545ac6b-f6cd-4f7b-b270-1f30a1ba4ee6",
                  "x": [
                    7.485565758310931,
                    9.33098833556072,
                    9.33098833556072,
                    8.66927030335403
                  ],
                  "xaxis": "x",
                  "y": [
                    -570,
                    -570,
                    -592.5,
                    -592.5
                  ],
                  "yaxis": "y"
                },
                {
                  "hoverinfo": "text",
                  "marker": {
                    "color": "rgb(255,65,54)"
                  },
                  "mode": "lines",
                  "type": "scatter",
                  "uid": "a3430b05-f165-447d-8229-388a7f4cb47c",
                  "x": [
                    0,
                    8.410733517366335,
                    8.410733517366335,
                    0
                  ],
                  "xaxis": "x",
                  "y": [
                    -615,
                    -615,
                    -625,
                    -625
                  ],
                  "yaxis": "y"
                },
                {
                  "hoverinfo": "text",
                  "marker": {
                    "color": "rgb(35,205,205)"
                  },
                  "mode": "lines",
                  "type": "scatter",
                  "uid": "138af811-3d77-4c76-bddc-492af3d25c65",
                  "x": [
                    0,
                    8.213580150728312,
                    8.213580150728312,
                    0
                  ],
                  "xaxis": "x",
                  "y": [
                    -635,
                    -635,
                    -645,
                    -645
                  ],
                  "yaxis": "y"
                },
                {
                  "hoverinfo": "text",
                  "marker": {
                    "color": "rgb(35,205,205)"
                  },
                  "mode": "lines",
                  "type": "scatter",
                  "uid": "752c1a56-170b-41fd-85dd-efb5f7043a7c",
                  "x": [
                    0,
                    5.24921553602883,
                    5.24921553602883,
                    0
                  ],
                  "xaxis": "x",
                  "y": [
                    -655,
                    -655,
                    -665,
                    -665
                  ],
                  "yaxis": "y"
                },
                {
                  "hoverinfo": "text",
                  "marker": {
                    "color": "rgb(35,205,205)"
                  },
                  "mode": "lines",
                  "type": "scatter",
                  "uid": "46b33dde-c96e-498c-afff-5203b689a5bb",
                  "x": [
                    0,
                    7.7668317547047705,
                    7.7668317547047705,
                    0
                  ],
                  "xaxis": "x",
                  "y": [
                    -675,
                    -675,
                    -685,
                    -685
                  ],
                  "yaxis": "y"
                },
                {
                  "hoverinfo": "text",
                  "marker": {
                    "color": "rgb(35,205,205)"
                  },
                  "mode": "lines",
                  "type": "scatter",
                  "uid": "f666d9c1-b9b7-4fe1-acf1-e02ccc587bc3",
                  "x": [
                    5.24921553602883,
                    9.114096714679214,
                    9.114096714679214,
                    7.7668317547047705
                  ],
                  "xaxis": "x",
                  "y": [
                    -660,
                    -660,
                    -680,
                    -680
                  ],
                  "yaxis": "y"
                },
                {
                  "hoverinfo": "text",
                  "marker": {
                    "color": "rgb(35,205,205)"
                  },
                  "mode": "lines",
                  "type": "scatter",
                  "uid": "c34175fd-3c4e-4d90-aaaa-6ead0abc2875",
                  "x": [
                    8.213580150728312,
                    9.658501900735896,
                    9.658501900735896,
                    9.114096714679214
                  ],
                  "xaxis": "x",
                  "y": [
                    -640,
                    -640,
                    -670,
                    -670
                  ],
                  "yaxis": "y"
                },
                {
                  "hoverinfo": "text",
                  "marker": {
                    "color": "rgb(0,116,217)"
                  },
                  "mode": "lines",
                  "type": "scatter",
                  "uid": "1568d948-1bb7-434a-b709-defa5d51e090",
                  "x": [
                    8.410733517366335,
                    11.241558669095431,
                    11.241558669095431,
                    9.658501900735896
                  ],
                  "xaxis": "x",
                  "y": [
                    -620,
                    -620,
                    -655,
                    -655
                  ],
                  "yaxis": "y"
                },
                {
                  "hoverinfo": "text",
                  "marker": {
                    "color": "rgb(0,116,217)"
                  },
                  "mode": "lines",
                  "type": "scatter",
                  "uid": "02604c20-fa61-4fc1-883c-bb826d8f205c",
                  "x": [
                    9.33098833556072,
                    11.731276688989562,
                    11.731276688989562,
                    11.241558669095431
                  ],
                  "xaxis": "x",
                  "y": [
                    -581.25,
                    -581.25,
                    -637.5,
                    -637.5
                  ],
                  "yaxis": "y"
                },
                {
                  "hoverinfo": "text",
                  "marker": {
                    "color": "rgb(0,116,217)"
                  },
                  "mode": "lines",
                  "type": "scatter",
                  "uid": "18ee9ed9-aafc-4ed1-b16c-0c1e5c4b179d",
                  "x": [
                    10.994113975229508,
                    12.093516174047066,
                    12.093516174047066,
                    11.731276688989562
                  ],
                  "xaxis": "x",
                  "y": [
                    -509.0625,
                    -509.0625,
                    -609.375,
                    -609.375
                  ],
                  "yaxis": "y"
                },
                {
                  "hoverinfo": "text",
                  "marker": {
                    "color": "rgb(133,20,75)"
                  },
                  "mode": "lines",
                  "type": "scatter",
                  "uid": "bebef7bb-9ee6-4ae0-b98b-3e90dfa90e9c",
                  "x": [
                    0,
                    6.631888524939632,
                    6.631888524939632,
                    0
                  ],
                  "xaxis": "x",
                  "y": [
                    -695,
                    -695,
                    -705,
                    -705
                  ],
                  "yaxis": "y"
                },
                {
                  "hoverinfo": "text",
                  "marker": {
                    "color": "rgb(133,20,75)"
                  },
                  "mode": "lines",
                  "type": "scatter",
                  "uid": "9f4188bc-56e4-4e2f-a072-0739e1157a9b",
                  "x": [
                    0,
                    7.3091538049779,
                    7.3091538049779,
                    0
                  ],
                  "xaxis": "x",
                  "y": [
                    -715,
                    -715,
                    -725,
                    -725
                  ],
                  "yaxis": "y"
                },
                {
                  "hoverinfo": "text",
                  "marker": {
                    "color": "rgb(133,20,75)"
                  },
                  "mode": "lines",
                  "type": "scatter",
                  "uid": "94f836a7-6aea-475d-a70b-6fb38e23e291",
                  "x": [
                    6.631888524939632,
                    9.704715319228784,
                    9.704715319228784,
                    7.3091538049779
                  ],
                  "xaxis": "x",
                  "y": [
                    -700,
                    -700,
                    -720,
                    -720
                  ],
                  "yaxis": "y"
                },
                {
                  "hoverinfo": "text",
                  "marker": {
                    "color": "rgb(255,220,0)"
                  },
                  "mode": "lines",
                  "type": "scatter",
                  "uid": "d4be1491-7dc4-4b50-9bbb-98dfcc9f4a4c",
                  "x": [
                    0,
                    6.570506022822609,
                    6.570506022822609,
                    0
                  ],
                  "xaxis": "x",
                  "y": [
                    -745,
                    -745,
                    -755,
                    -755
                  ],
                  "yaxis": "y"
                },
                {
                  "hoverinfo": "text",
                  "marker": {
                    "color": "rgb(255,220,0)"
                  },
                  "mode": "lines",
                  "type": "scatter",
                  "uid": "8da7cd78-92a9-49c5-b43f-a686ba6d0632",
                  "x": [
                    0,
                    8.514543722513583,
                    8.514543722513583,
                    6.570506022822609
                  ],
                  "xaxis": "x",
                  "y": [
                    -735,
                    -735,
                    -750,
                    -750
                  ],
                  "yaxis": "y"
                },
                {
                  "hoverinfo": "text",
                  "marker": {
                    "color": "rgb(40,35,35)"
                  },
                  "mode": "lines",
                  "type": "scatter",
                  "uid": "965e670f-2cbe-4daa-9b02-0d171ec39b07",
                  "x": [
                    0,
                    7.489775164585156,
                    7.489775164585156,
                    0
                  ],
                  "xaxis": "x",
                  "y": [
                    -775,
                    -775,
                    -785,
                    -785
                  ],
                  "yaxis": "y"
                },
                {
                  "hoverinfo": "text",
                  "marker": {
                    "color": "rgb(40,35,35)"
                  },
                  "mode": "lines",
                  "type": "scatter",
                  "uid": "985137c6-2393-4fed-82c6-41bbee3c20bf",
                  "x": [
                    0,
                    7.801993061849155,
                    7.801993061849155,
                    7.489775164585156
                  ],
                  "xaxis": "x",
                  "y": [
                    -765,
                    -765,
                    -780,
                    -780
                  ],
                  "yaxis": "y"
                },
                {
                  "hoverinfo": "text",
                  "marker": {
                    "color": "rgb(40,35,35)"
                  },
                  "mode": "lines",
                  "type": "scatter",
                  "uid": "2e93fc51-3bba-4c13-b291-8f191bf71b64",
                  "x": [
                    0,
                    7.005152164747785,
                    7.005152164747785,
                    0
                  ],
                  "xaxis": "x",
                  "y": [
                    -795,
                    -795,
                    -805,
                    -805
                  ],
                  "yaxis": "y"
                },
                {
                  "hoverinfo": "text",
                  "marker": {
                    "color": "rgb(40,35,35)"
                  },
                  "mode": "lines",
                  "type": "scatter",
                  "uid": "958e4e5e-c7bc-4e01-955d-e23f8393c130",
                  "x": [
                    0,
                    6.141314199281556,
                    6.141314199281556,
                    0
                  ],
                  "xaxis": "x",
                  "y": [
                    -825,
                    -825,
                    -835,
                    -835
                  ],
                  "yaxis": "y"
                },
                {
                  "hoverinfo": "text",
                  "marker": {
                    "color": "rgb(40,35,35)"
                  },
                  "mode": "lines",
                  "type": "scatter",
                  "uid": "7c660dc9-cac8-425c-80f3-159782045bb2",
                  "x": [
                    0,
                    7.281782739422904,
                    7.281782739422904,
                    6.141314199281556
                  ],
                  "xaxis": "x",
                  "y": [
                    -815,
                    -815,
                    -830,
                    -830
                  ],
                  "yaxis": "y"
                },
                {
                  "hoverinfo": "text",
                  "marker": {
                    "color": "rgb(40,35,35)"
                  },
                  "mode": "lines",
                  "type": "scatter",
                  "uid": "c9bf41f3-0028-43dc-ba02-0d56e17eb3d1",
                  "x": [
                    7.005152164747785,
                    8.156833520773477,
                    8.156833520773477,
                    7.281782739422904
                  ],
                  "xaxis": "x",
                  "y": [
                    -800,
                    -800,
                    -822.5,
                    -822.5
                  ],
                  "yaxis": "y"
                },
                {
                  "hoverinfo": "text",
                  "marker": {
                    "color": "rgb(40,35,35)"
                  },
                  "mode": "lines",
                  "type": "scatter",
                  "uid": "577cf368-5d66-4000-8226-13a4c254177e",
                  "x": [
                    7.801993061849155,
                    9.027387948599328,
                    9.027387948599328,
                    8.156833520773477
                  ],
                  "xaxis": "x",
                  "y": [
                    -772.5,
                    -772.5,
                    -811.25,
                    -811.25
                  ],
                  "yaxis": "y"
                },
                {
                  "hoverinfo": "text",
                  "marker": {
                    "color": "rgb(0,116,217)"
                  },
                  "mode": "lines",
                  "type": "scatter",
                  "uid": "42812bef-87d1-4c92-a0b7-ed67c88de5aa",
                  "x": [
                    8.514543722513583,
                    10.547894101421523,
                    10.547894101421523,
                    9.027387948599328
                  ],
                  "xaxis": "x",
                  "y": [
                    -742.5,
                    -742.5,
                    -791.875,
                    -791.875
                  ],
                  "yaxis": "y"
                },
                {
                  "hoverinfo": "text",
                  "marker": {
                    "color": "rgb(0,116,217)"
                  },
                  "mode": "lines",
                  "type": "scatter",
                  "uid": "c490bdc1-1129-4292-8634-0fbe8c94eb56",
                  "x": [
                    9.704715319228784,
                    11.008556317953609,
                    11.008556317953609,
                    10.547894101421523
                  ],
                  "xaxis": "x",
                  "y": [
                    -710,
                    -710,
                    -767.1875,
                    -767.1875
                  ],
                  "yaxis": "y"
                },
                {
                  "hoverinfo": "text",
                  "marker": {
                    "color": "rgb(61,153,112)"
                  },
                  "mode": "lines",
                  "type": "scatter",
                  "uid": "1e93f295-a738-42b8-96a5-4d0e0417c026",
                  "x": [
                    0,
                    7.414312250280279,
                    7.414312250280279,
                    0
                  ],
                  "xaxis": "x",
                  "y": [
                    -845,
                    -845,
                    -855,
                    -855
                  ],
                  "yaxis": "y"
                },
                {
                  "hoverinfo": "text",
                  "marker": {
                    "color": "rgb(61,153,112)"
                  },
                  "mode": "lines",
                  "type": "scatter",
                  "uid": "6b5b07ce-6339-4431-95ff-234b245ebe10",
                  "x": [
                    0,
                    5.54206728583633,
                    5.54206728583633,
                    0
                  ],
                  "xaxis": "x",
                  "y": [
                    -875,
                    -875,
                    -885,
                    -885
                  ],
                  "yaxis": "y"
                },
                {
                  "hoverinfo": "text",
                  "marker": {
                    "color": "rgb(61,153,112)"
                  },
                  "mode": "lines",
                  "type": "scatter",
                  "uid": "53614aa4-1240-422c-a3f1-2f1315ec7fe7",
                  "x": [
                    0,
                    7.524246594189803,
                    7.524246594189803,
                    5.54206728583633
                  ],
                  "xaxis": "x",
                  "y": [
                    -865,
                    -865,
                    -880,
                    -880
                  ],
                  "yaxis": "y"
                },
                {
                  "hoverinfo": "text",
                  "marker": {
                    "color": "rgb(61,153,112)"
                  },
                  "mode": "lines",
                  "type": "scatter",
                  "uid": "9c53d437-3123-4ca2-b6de-9da31f7b00a5",
                  "x": [
                    7.414312250280279,
                    9.60750139305076,
                    9.60750139305076,
                    7.524246594189803
                  ],
                  "xaxis": "x",
                  "y": [
                    -850,
                    -850,
                    -872.5,
                    -872.5
                  ],
                  "yaxis": "y"
                },
                {
                  "hoverinfo": "text",
                  "marker": {
                    "color": "rgb(255,65,54)"
                  },
                  "mode": "lines",
                  "type": "scatter",
                  "uid": "a5425210-8bbc-4a8b-bf02-6b75d71f9efd",
                  "x": [
                    0,
                    5.605242780826221,
                    5.605242780826221,
                    0
                  ],
                  "xaxis": "x",
                  "y": [
                    -895,
                    -895,
                    -905,
                    -905
                  ],
                  "yaxis": "y"
                },
                {
                  "hoverinfo": "text",
                  "marker": {
                    "color": "rgb(255,65,54)"
                  },
                  "mode": "lines",
                  "type": "scatter",
                  "uid": "57fab7b3-6277-4c20-b51f-767e4a756566",
                  "x": [
                    0,
                    6.504592763042438,
                    6.504592763042438,
                    0
                  ],
                  "xaxis": "x",
                  "y": [
                    -915,
                    -915,
                    -925,
                    -925
                  ],
                  "yaxis": "y"
                },
                {
                  "hoverinfo": "text",
                  "marker": {
                    "color": "rgb(255,65,54)"
                  },
                  "mode": "lines",
                  "type": "scatter",
                  "uid": "6f8469ab-85a1-48fd-9eb3-be6e9afab4a0",
                  "x": [
                    5.605242780826221,
                    7.416615281106617,
                    7.416615281106617,
                    6.504592763042438
                  ],
                  "xaxis": "x",
                  "y": [
                    -900,
                    -900,
                    -920,
                    -920
                  ],
                  "yaxis": "y"
                },
                {
                  "hoverinfo": "text",
                  "marker": {
                    "color": "rgb(255,65,54)"
                  },
                  "mode": "lines",
                  "type": "scatter",
                  "uid": "103ce826-b4df-495b-9c78-39c4df3126a4",
                  "x": [
                    0,
                    6.73110724129063,
                    6.73110724129063,
                    0
                  ],
                  "xaxis": "x",
                  "y": [
                    -945,
                    -945,
                    -955,
                    -955
                  ],
                  "yaxis": "y"
                },
                {
                  "hoverinfo": "text",
                  "marker": {
                    "color": "rgb(255,65,54)"
                  },
                  "mode": "lines",
                  "type": "scatter",
                  "uid": "a2d3b5e9-ab2c-47d7-a639-efb42bcfc229",
                  "x": [
                    0,
                    8.173021326855833,
                    8.173021326855833,
                    6.73110724129063
                  ],
                  "xaxis": "x",
                  "y": [
                    -935,
                    -935,
                    -950,
                    -950
                  ],
                  "yaxis": "y"
                },
                {
                  "hoverinfo": "text",
                  "marker": {
                    "color": "rgb(255,65,54)"
                  },
                  "mode": "lines",
                  "type": "scatter",
                  "uid": "04885d8e-6e67-49cc-9fb8-fe1a774d366b",
                  "x": [
                    7.416615281106617,
                    9.300300748357818,
                    9.300300748357818,
                    8.173021326855833
                  ],
                  "xaxis": "x",
                  "y": [
                    -910,
                    -910,
                    -942.5,
                    -942.5
                  ],
                  "yaxis": "y"
                },
                {
                  "hoverinfo": "text",
                  "marker": {
                    "color": "rgb(35,205,205)"
                  },
                  "mode": "lines",
                  "type": "scatter",
                  "uid": "4be09c2b-ae66-491c-88f9-6cf778e53cb2",
                  "x": [
                    0,
                    7.35800191633362,
                    7.35800191633362,
                    0
                  ],
                  "xaxis": "x",
                  "y": [
                    -985,
                    -985,
                    -995,
                    -995
                  ],
                  "yaxis": "y"
                },
                {
                  "hoverinfo": "text",
                  "marker": {
                    "color": "rgb(35,205,205)"
                  },
                  "mode": "lines",
                  "type": "scatter",
                  "uid": "ea221535-339b-4bd1-8c9d-dab1964df06c",
                  "x": [
                    0,
                    7.782170888300851,
                    7.782170888300851,
                    7.35800191633362
                  ],
                  "xaxis": "x",
                  "y": [
                    -975,
                    -975,
                    -990,
                    -990
                  ],
                  "yaxis": "y"
                },
                {
                  "hoverinfo": "text",
                  "marker": {
                    "color": "rgb(35,205,205)"
                  },
                  "mode": "lines",
                  "type": "scatter",
                  "uid": "187f8709-0c80-46f4-9aeb-c9f6e85fa371",
                  "x": [
                    0,
                    9.849897685857439,
                    9.849897685857439,
                    7.782170888300851
                  ],
                  "xaxis": "x",
                  "y": [
                    -965,
                    -965,
                    -982.5,
                    -982.5
                  ],
                  "yaxis": "y"
                },
                {
                  "hoverinfo": "text",
                  "marker": {
                    "color": "rgb(0,116,217)"
                  },
                  "mode": "lines",
                  "type": "scatter",
                  "uid": "0d9161b7-15d1-4cef-8c25-70bfedb9865f",
                  "x": [
                    9.300300748357818,
                    10.444506696419374,
                    10.444506696419374,
                    9.849897685857439
                  ],
                  "xaxis": "x",
                  "y": [
                    -926.25,
                    -926.25,
                    -973.75,
                    -973.75
                  ],
                  "yaxis": "y"
                },
                {
                  "hoverinfo": "text",
                  "marker": {
                    "color": "rgb(0,116,217)"
                  },
                  "mode": "lines",
                  "type": "scatter",
                  "uid": "df265277-595e-448b-99ab-2887c80d0ad9",
                  "x": [
                    9.60750139305076,
                    11.923067501270559,
                    11.923067501270559,
                    10.444506696419374
                  ],
                  "xaxis": "x",
                  "y": [
                    -861.25,
                    -861.25,
                    -950,
                    -950
                  ],
                  "yaxis": "y"
                },
                {
                  "hoverinfo": "text",
                  "marker": {
                    "color": "rgb(0,116,217)"
                  },
                  "mode": "lines",
                  "type": "scatter",
                  "uid": "ddc7f2b0-8186-49b4-ab0f-4a5c8e15fc0b",
                  "x": [
                    11.008556317953609,
                    12.256619800833208,
                    12.256619800833208,
                    11.923067501270559
                  ],
                  "xaxis": "x",
                  "y": [
                    -738.59375,
                    -738.59375,
                    -905.625,
                    -905.625
                  ],
                  "yaxis": "y"
                },
                {
                  "hoverinfo": "text",
                  "marker": {
                    "color": "rgb(0,116,217)"
                  },
                  "mode": "lines",
                  "type": "scatter",
                  "uid": "e6da0032-3803-4d32-ba7c-78ca3ce85414",
                  "x": [
                    12.093516174047066,
                    13.107522693032791,
                    13.107522693032791,
                    12.256619800833208
                  ],
                  "xaxis": "x",
                  "y": [
                    -559.21875,
                    -559.21875,
                    -822.109375,
                    -822.109375
                  ],
                  "yaxis": "y"
                },
                {
                  "hoverinfo": "text",
                  "marker": {
                    "color": "rgb(0,116,217)"
                  },
                  "mode": "lines",
                  "type": "scatter",
                  "uid": "8696d6c1-092a-4eda-b35d-f63a78498793",
                  "x": [
                    12.640248053989845,
                    14.199768778044012,
                    14.199768778044012,
                    13.107522693032791
                  ],
                  "xaxis": "x",
                  "y": [
                    -282.6025390625,
                    -282.6025390625,
                    -690.6640625,
                    -690.6640625
                  ],
                  "yaxis": "y"
                },
                {
                  "hoverinfo": "text",
                  "marker": {
                    "color": "rgb(0,116,217)"
                  },
                  "mode": "lines",
                  "type": "scatter",
                  "uid": "7377198f-5e55-4201-bcfe-9f2572fa6645",
                  "x": [
                    11.446405209034507,
                    14.477905583337392,
                    14.477905583337392,
                    14.199768778044012
                  ],
                  "xaxis": "x",
                  "y": [
                    -26.25,
                    -26.25,
                    -486.63330078125,
                    -486.63330078125
                  ],
                  "yaxis": "y"
                }
              ],
              "layout": {
                "autosize": false,
                "height": 1200,
                "hovermode": "closest",
                "showlegend": false,
                "title": {
                  "text": "Dendrogram of MNIST"
                },
                "width": 600,
                "xaxis": {
                  "mirror": "allticks",
                  "rangemode": "tozero",
                  "showgrid": false,
                  "showline": true,
                  "showticklabels": true,
                  "tickangle": 90,
                  "ticks": "outside",
                  "title": {
                    "text": "Difference Level"
                  },
                  "type": "linear",
                  "zeroline": false
                },
                "yaxis": {
                  "mirror": "allticks",
                  "rangemode": "tozero",
                  "showgrid": false,
                  "showline": true,
                  "showticklabels": true,
                  "tickmode": "array",
                  "ticks": "outside",
                  "ticktext": [
                    "1",
                    "3",
                    "8",
                    "5",
                    "6",
                    "22",
                    "27",
                    "20",
                    "25",
                    "26",
                    "83",
                    "36",
                    "39",
                    "31",
                    "34",
                    "32",
                    "55",
                    "70",
                    "14",
                    "10",
                    "13",
                    "17",
                    "11",
                    "15",
                    "16",
                    "2",
                    "82",
                    "89",
                    "80",
                    "86",
                    "30",
                    "35",
                    "38",
                    "81",
                    "12",
                    "87",
                    "18",
                    "19",
                    "59",
                    "21",
                    "29",
                    "33",
                    "85",
                    "37",
                    "54",
                    "65",
                    "63",
                    "66",
                    "60",
                    "67",
                    "61",
                    "69",
                    "7",
                    "9",
                    "28",
                    "88",
                    "42",
                    "44",
                    "62",
                    "64",
                    "68",
                    "0",
                    "4",
                    "23",
                    "24",
                    "56",
                    "58",
                    "52",
                    "84",
                    "51",
                    "57",
                    "50",
                    "53",
                    "90",
                    "45",
                    "48",
                    "47",
                    "79",
                    "98",
                    "49",
                    "94",
                    "95",
                    "91",
                    "96",
                    "72",
                    "77",
                    "71",
                    "73",
                    "78",
                    "92",
                    "99",
                    "40",
                    "43",
                    "41",
                    "46",
                    "93",
                    "97",
                    "76",
                    "74",
                    "75"
                  ],
                  "tickvals": [
                    -5,
                    -15,
                    -25,
                    -35,
                    -45,
                    -55,
                    -65,
                    -75,
                    -85,
                    -95,
                    -105,
                    -115,
                    -125,
                    -135,
                    -145,
                    -155,
                    -165,
                    -175,
                    -185,
                    -195,
                    -205,
                    -215,
                    -225,
                    -235,
                    -245,
                    -255,
                    -265,
                    -275,
                    -285,
                    -295,
                    -305,
                    -315,
                    -325,
                    -335,
                    -345,
                    -355,
                    -365,
                    -375,
                    -385,
                    -395,
                    -405,
                    -415,
                    -425,
                    -435,
                    -445,
                    -455,
                    -465,
                    -475,
                    -485,
                    -495,
                    -505,
                    -515,
                    -525,
                    -535,
                    -545,
                    -555,
                    -565,
                    -575,
                    -585,
                    -595,
                    -605,
                    -615,
                    -625,
                    -635,
                    -645,
                    -655,
                    -665,
                    -675,
                    -685,
                    -695,
                    -705,
                    -715,
                    -725,
                    -735,
                    -745,
                    -755,
                    -765,
                    -775,
                    -785,
                    -795,
                    -805,
                    -815,
                    -825,
                    -835,
                    -845,
                    -855,
                    -865,
                    -875,
                    -885,
                    -895,
                    -905,
                    -915,
                    -925,
                    -935,
                    -945,
                    -955,
                    -965,
                    -975,
                    -985,
                    -995
                  ],
                  "title": {
                    "text": "Observation"
                  },
                  "type": "linear",
                  "zeroline": false
                }
              }
            },
            "text/html": "<div>\n        \n        \n            <div id=\"d8af98e7-ae73-43f7-b72b-27590a75e21e\" class=\"plotly-graph-div\" style=\"height:1200px; width:600px;\"></div>\n            <script type=\"text/javascript\">\n                require([\"plotly\"], function(Plotly) {\n                    window.PLOTLYENV=window.PLOTLYENV || {};\n                    window.PLOTLYENV.BASE_URL='https://plot.ly';\n                    \n                if (document.getElementById(\"d8af98e7-ae73-43f7-b72b-27590a75e21e\")) {\n                    Plotly.newPlot(\n                        'd8af98e7-ae73-43f7-b72b-27590a75e21e',\n                        [{\"hoverinfo\": \"text\", \"marker\": {\"color\": \"rgb(61,153,112)\"}, \"mode\": \"lines\", \"type\": \"scatter\", \"uid\": \"ba80d290-a449-4915-89d7-32e5fbceafed\", \"x\": [0.0, 7.497310040089794, 7.497310040089794, 0.0], \"xaxis\": \"x\", \"y\": [-15.0, -15.0, -25.0, -25.0], \"yaxis\": \"y\"}, {\"hoverinfo\": \"text\", \"marker\": {\"color\": \"rgb(61,153,112)\"}, \"mode\": \"lines\", \"type\": \"scatter\", \"uid\": \"cbc744cb-da74-44c5-b465-c47186cdfaa4\", \"x\": [0.0, 8.36940934087332, 8.36940934087332, 7.497310040089794], \"xaxis\": \"x\", \"y\": [-5.0, -5.0, -20.0, -20.0], \"yaxis\": \"y\"}, {\"hoverinfo\": \"text\", \"marker\": {\"color\": \"rgb(255,65,54)\"}, \"mode\": \"lines\", \"type\": \"scatter\", \"uid\": \"f7794013-7e25-4a0c-875c-858cdc76c4be\", \"x\": [0.0, 9.78711264936221, 9.78711264936221, 0.0], \"xaxis\": \"x\", \"y\": [-35.0, -35.0, -45.0, -45.0], \"yaxis\": \"y\"}, {\"hoverinfo\": \"text\", \"marker\": {\"color\": \"rgb(0,116,217)\"}, \"mode\": \"lines\", \"type\": \"scatter\", \"uid\": \"91ddaa34-d016-4447-aede-23f226e6fefc\", \"x\": [8.36940934087332, 11.446405209034507, 11.446405209034507, 9.78711264936221], \"xaxis\": \"x\", \"y\": [-12.5, -12.5, -40.0, -40.0], \"yaxis\": \"y\"}, {\"hoverinfo\": \"text\", \"marker\": {\"color\": \"rgb(35,205,205)\"}, \"mode\": \"lines\", \"type\": \"scatter\", \"uid\": \"afc6a533-cbd6-47ee-9dc5-a4e5b1429ba7\", \"x\": [0.0, 8.038568123505785, 8.038568123505785, 0.0], \"xaxis\": \"x\", \"y\": [-55.0, -55.0, -65.0, -65.0], \"yaxis\": \"y\"}, {\"hoverinfo\": \"text\", \"marker\": {\"color\": \"rgb(35,205,205)\"}, \"mode\": \"lines\", \"type\": \"scatter\", \"uid\": \"95efb792-1395-4e5d-84fa-ac9f08150ee0\", \"x\": [0.0, 7.334106072504406, 7.334106072504406, 0.0], \"xaxis\": \"x\", \"y\": [-85.0, -85.0, -95.0, -95.0], \"yaxis\": \"y\"}, {\"hoverinfo\": \"text\", \"marker\": {\"color\": \"rgb(35,205,205)\"}, \"mode\": \"lines\", \"type\": \"scatter\", \"uid\": \"0f733bef-bfd2-4412-85aa-a3ad22ffff3c\", \"x\": [0.0, 9.128068260064126, 9.128068260064126, 7.334106072504406], \"xaxis\": \"x\", \"y\": [-75.0, -75.0, -90.0, -90.0], \"yaxis\": \"y\"}, {\"hoverinfo\": \"text\", \"marker\": {\"color\": \"rgb(35,205,205)\"}, \"mode\": \"lines\", \"type\": \"scatter\", \"uid\": \"c5c904be-3858-47d5-8f3b-2ba0f9935786\", \"x\": [8.038568123505785, 9.956572369705176, 9.956572369705176, 9.128068260064126], \"xaxis\": \"x\", \"y\": [-60.0, -60.0, -82.5, -82.5], \"yaxis\": \"y\"}, {\"hoverinfo\": \"text\", \"marker\": {\"color\": \"rgb(133,20,75)\"}, \"mode\": \"lines\", \"type\": \"scatter\", \"uid\": \"869dad9a-578b-4e9d-a74a-0dd16886dc10\", \"x\": [0.0, 6.393217762570534, 6.393217762570534, 0.0], \"xaxis\": \"x\", \"y\": [-115.0, -115.0, -125.0, -125.0], \"yaxis\": \"y\"}, {\"hoverinfo\": \"text\", \"marker\": {\"color\": \"rgb(133,20,75)\"}, \"mode\": \"lines\", \"type\": \"scatter\", \"uid\": \"7e9c6575-8186-491c-ab03-9be2be273fbc\", \"x\": [0.0, 8.518748349381235, 8.518748349381235, 6.393217762570534], \"xaxis\": \"x\", \"y\": [-105.0, -105.0, -120.0, -120.0], \"yaxis\": \"y\"}, {\"hoverinfo\": \"text\", \"marker\": {\"color\": \"rgb(133,20,75)\"}, \"mode\": \"lines\", \"type\": \"scatter\", \"uid\": \"169cdf70-1037-44fa-a600-a1ffd3620e1d\", \"x\": [0.0, 6.661687875946001, 6.661687875946001, 0.0], \"xaxis\": \"x\", \"y\": [-135.0, -135.0, -145.0, -145.0], \"yaxis\": \"y\"}, {\"hoverinfo\": \"text\", \"marker\": {\"color\": \"rgb(133,20,75)\"}, \"mode\": \"lines\", \"type\": \"scatter\", \"uid\": \"1bb3fb22-ca84-4f12-bd55-5bdffd46e3f7\", \"x\": [0.0, 7.031864641069221, 7.031864641069221, 0.0], \"xaxis\": \"x\", \"y\": [-155.0, -155.0, -165.0, -165.0], \"yaxis\": \"y\"}, {\"hoverinfo\": \"text\", \"marker\": {\"color\": \"rgb(133,20,75)\"}, \"mode\": \"lines\", \"type\": \"scatter\", \"uid\": \"63122280-de4d-48e3-8c19-1dd7a837949d\", \"x\": [6.661687875946001, 8.541538371123945, 8.541538371123945, 7.031864641069221], \"xaxis\": \"x\", \"y\": [-140.0, -140.0, -160.0, -160.0], \"yaxis\": \"y\"}, {\"hoverinfo\": \"text\", \"marker\": {\"color\": \"rgb(133,20,75)\"}, \"mode\": \"lines\", \"type\": \"scatter\", \"uid\": \"5a4a9262-8c2e-4b53-9eec-4f649cd2daf7\", \"x\": [0.0, 3.1241146375380264, 3.1241146375380264, 0.0], \"xaxis\": \"x\", \"y\": [-195.0, -195.0, -205.0, -205.0], \"yaxis\": \"y\"}, {\"hoverinfo\": \"text\", \"marker\": {\"color\": \"rgb(133,20,75)\"}, \"mode\": \"lines\", \"type\": \"scatter\", \"uid\": \"743f58af-2a50-4c31-af2c-a4c5e279c22e\", \"x\": [0.0, 3.6344373625310884, 3.6344373625310884, 3.1241146375380264], \"xaxis\": \"x\", \"y\": [-185.0, -185.0, -200.0, -200.0], \"yaxis\": \"y\"}, {\"hoverinfo\": \"text\", \"marker\": {\"color\": \"rgb(133,20,75)\"}, \"mode\": \"lines\", \"type\": \"scatter\", \"uid\": \"2dbaccee-00f7-4436-aa6d-6997b11354c0\", \"x\": [0.0, 2.9325101075316415, 2.9325101075316415, 0.0], \"xaxis\": \"x\", \"y\": [-235.0, -235.0, -245.0, -245.0], \"yaxis\": \"y\"}, {\"hoverinfo\": \"text\", \"marker\": {\"color\": \"rgb(133,20,75)\"}, \"mode\": \"lines\", \"type\": \"scatter\", \"uid\": \"05dca6b8-6d22-4062-a628-634dd38113c7\", \"x\": [0.0, 3.571580332952868, 3.571580332952868, 2.9325101075316415], \"xaxis\": \"x\", \"y\": [-225.0, -225.0, -240.0, -240.0], \"yaxis\": \"y\"}, {\"hoverinfo\": \"text\", \"marker\": {\"color\": \"rgb(133,20,75)\"}, \"mode\": \"lines\", \"type\": \"scatter\", \"uid\": \"23cd428e-af2b-4e12-9c11-8e753eef080e\", \"x\": [0.0, 4.678155242529851, 4.678155242529851, 3.571580332952868], \"xaxis\": \"x\", \"y\": [-215.0, -215.0, -232.5, -232.5], \"yaxis\": \"y\"}, {\"hoverinfo\": \"text\", \"marker\": {\"color\": \"rgb(133,20,75)\"}, \"mode\": \"lines\", \"type\": \"scatter\", \"uid\": \"3efec179-0017-4e6b-9f36-aa2d5eea46b2\", \"x\": [3.6344373625310884, 5.433201361439654, 5.433201361439654, 4.678155242529851], \"xaxis\": \"x\", \"y\": [-192.5, -192.5, -223.75, -223.75], \"yaxis\": \"y\"}, {\"hoverinfo\": \"text\", \"marker\": {\"color\": \"rgb(133,20,75)\"}, \"mode\": \"lines\", \"type\": \"scatter\", \"uid\": \"bb918e13-ad69-4598-8aaf-151144c102b9\", \"x\": [0.0, 7.43360099032007, 7.43360099032007, 5.433201361439654], \"xaxis\": \"x\", \"y\": [-175.0, -175.0, -208.125, -208.125], \"yaxis\": \"y\"}, {\"hoverinfo\": \"text\", \"marker\": {\"color\": \"rgb(133,20,75)\"}, \"mode\": \"lines\", \"type\": \"scatter\", \"uid\": \"f5482436-6069-4aab-a1b9-3beffa435727\", \"x\": [0.0, 6.990536801261761, 6.990536801261761, 0.0], \"xaxis\": \"x\", \"y\": [-265.0, -265.0, -275.0, -275.0], \"yaxis\": \"y\"}, {\"hoverinfo\": \"text\", \"marker\": {\"color\": \"rgb(133,20,75)\"}, \"mode\": \"lines\", \"type\": \"scatter\", \"uid\": \"d1654094-535a-4a6d-a6dd-a074d375201a\", \"x\": [0.0, 8.09267543046496, 8.09267543046496, 6.990536801261761], \"xaxis\": \"x\", \"y\": [-255.0, -255.0, -270.0, -270.0], \"yaxis\": \"y\"}, {\"hoverinfo\": \"text\", \"marker\": {\"color\": \"rgb(133,20,75)\"}, \"mode\": \"lines\", \"type\": \"scatter\", \"uid\": \"e3f9d625-2187-4116-a4fe-9db2286d8471\", \"x\": [7.43360099032007, 9.444259265179001, 9.444259265179001, 8.09267543046496], \"xaxis\": \"x\", \"y\": [-191.5625, -191.5625, -262.5, -262.5], \"yaxis\": \"y\"}, {\"hoverinfo\": \"text\", \"marker\": {\"color\": \"rgb(133,20,75)\"}, \"mode\": \"lines\", \"type\": \"scatter\", \"uid\": \"4896fd6c-b2fe-43a4-8e01-edb1ceebdc08\", \"x\": [8.541538371123945, 9.659774817571693, 9.659774817571693, 9.444259265179001], \"xaxis\": \"x\", \"y\": [-150.0, -150.0, -227.03125, -227.03125], \"yaxis\": \"y\"}, {\"hoverinfo\": \"text\", \"marker\": {\"color\": \"rgb(133,20,75)\"}, \"mode\": \"lines\", \"type\": \"scatter\", \"uid\": \"71fea16d-b1df-4804-af2f-a774316f26e1\", \"x\": [8.518748349381235, 10.118106842888572, 10.118106842888572, 9.659774817571693], \"xaxis\": \"x\", \"y\": [-112.5, -112.5, -188.515625, -188.515625], \"yaxis\": \"y\"}, {\"hoverinfo\": \"text\", \"marker\": {\"color\": \"rgb(255,220,0)\"}, \"mode\": \"lines\", \"type\": \"scatter\", \"uid\": \"e8f610a9-b1ff-4dc3-9abe-610273c31987\", \"x\": [0.0, 7.221359660222094, 7.221359660222094, 0.0], \"xaxis\": \"x\", \"y\": [-285.0, -285.0, -295.0, -295.0], \"yaxis\": \"y\"}, {\"hoverinfo\": \"text\", \"marker\": {\"color\": \"rgb(255,220,0)\"}, \"mode\": \"lines\", \"type\": \"scatter\", \"uid\": \"79025895-f464-455e-88c9-ab92568e11d7\", \"x\": [0.0, 6.912921333248215, 6.912921333248215, 0.0], \"xaxis\": \"x\", \"y\": [-315.0, -315.0, -325.0, -325.0], \"yaxis\": \"y\"}, {\"hoverinfo\": \"text\", \"marker\": {\"color\": \"rgb(255,220,0)\"}, \"mode\": \"lines\", \"type\": \"scatter\", \"uid\": \"c1e2a2f2-23b6-4f26-acc7-c951f62f9560\", \"x\": [0.0, 7.922567399680231, 7.922567399680231, 6.912921333248215], \"xaxis\": \"x\", \"y\": [-305.0, -305.0, -320.0, -320.0], \"yaxis\": \"y\"}, {\"hoverinfo\": \"text\", \"marker\": {\"color\": \"rgb(255,220,0)\"}, \"mode\": \"lines\", \"type\": \"scatter\", \"uid\": \"c7dd8017-baff-4450-8789-62b4111e789a\", \"x\": [7.221359660222094, 8.836410640949797, 8.836410640949797, 7.922567399680231], \"xaxis\": \"x\", \"y\": [-290.0, -290.0, -312.5, -312.5], \"yaxis\": \"y\"}, {\"hoverinfo\": \"text\", \"marker\": {\"color\": \"rgb(40,35,35)\"}, \"mode\": \"lines\", \"type\": \"scatter\", \"uid\": \"19943651-702d-4a1f-b324-fabadbe6d859\", \"x\": [0.0, 4.933459582603641, 4.933459582603641, 0.0], \"xaxis\": \"x\", \"y\": [-365.0, -365.0, -375.0, -375.0], \"yaxis\": \"y\"}, {\"hoverinfo\": \"text\", \"marker\": {\"color\": \"rgb(40,35,35)\"}, \"mode\": \"lines\", \"type\": \"scatter\", \"uid\": \"cd2c6fec-0182-4283-ab58-bf4f7e128a3e\", \"x\": [0.0, 7.014675670407977, 7.014675670407977, 4.933459582603641], \"xaxis\": \"x\", \"y\": [-355.0, -355.0, -370.0, -370.0], \"yaxis\": \"y\"}, {\"hoverinfo\": \"text\", \"marker\": {\"color\": \"rgb(40,35,35)\"}, \"mode\": \"lines\", \"type\": \"scatter\", \"uid\": \"733c1e16-bce1-40cf-b4a1-60f99a01c3be\", \"x\": [0.0, 7.759304914651912, 7.759304914651912, 7.014675670407977], \"xaxis\": \"x\", \"y\": [-345.0, -345.0, -362.5, -362.5], \"yaxis\": \"y\"}, {\"hoverinfo\": \"text\", \"marker\": {\"color\": \"rgb(40,35,35)\"}, \"mode\": \"lines\", \"type\": \"scatter\", \"uid\": \"247fccc1-c067-40de-9446-4c43ab3a24de\", \"x\": [0.0, 9.174124889947356, 9.174124889947356, 7.759304914651912], \"xaxis\": \"x\", \"y\": [-335.0, -335.0, -353.75, -353.75], \"yaxis\": \"y\"}, {\"hoverinfo\": \"text\", \"marker\": {\"color\": \"rgb(0,116,217)\"}, \"mode\": \"lines\", \"type\": \"scatter\", \"uid\": \"5c8434e1-daaa-499a-bbdc-9bb2e8a99812\", \"x\": [8.836410640949797, 10.495246724307767, 10.495246724307767, 9.174124889947356], \"xaxis\": \"x\", \"y\": [-301.25, -301.25, -344.375, -344.375], \"yaxis\": \"y\"}, {\"hoverinfo\": \"text\", \"marker\": {\"color\": \"rgb(0,116,217)\"}, \"mode\": \"lines\", \"type\": \"scatter\", \"uid\": \"3454af47-bdad-43b3-a1ef-94d2b24931c7\", \"x\": [10.118106842888572, 10.803360007753295, 10.803360007753295, 10.495246724307767], \"xaxis\": \"x\", \"y\": [-150.5078125, -150.5078125, -322.8125, -322.8125], \"yaxis\": \"y\"}, {\"hoverinfo\": \"text\", \"marker\": {\"color\": \"rgb(0,116,217)\"}, \"mode\": \"lines\", \"type\": \"scatter\", \"uid\": \"9b290a50-0bba-4e70-a75b-96d1dee37e6f\", \"x\": [9.956572369705176, 11.799182165778666, 11.799182165778666, 10.803360007753295], \"xaxis\": \"x\", \"y\": [-71.25, -71.25, -236.66015625, -236.66015625], \"yaxis\": \"y\"}, {\"hoverinfo\": \"text\", \"marker\": {\"color\": \"rgb(61,153,112)\"}, \"mode\": \"lines\", \"type\": \"scatter\", \"uid\": \"cda400f7-e576-423b-bb81-1bf6999c670c\", \"x\": [0.0, 6.117613121572196, 6.117613121572196, 0.0], \"xaxis\": \"x\", \"y\": [-395.0, -395.0, -405.0, -405.0], \"yaxis\": \"y\"}, {\"hoverinfo\": \"text\", \"marker\": {\"color\": \"rgb(61,153,112)\"}, \"mode\": \"lines\", \"type\": \"scatter\", \"uid\": \"5af63596-ec91-4352-943d-8c102e4bae9b\", \"x\": [0.0, 9.888539925729546, 9.888539925729546, 6.117613121572196], \"xaxis\": \"x\", \"y\": [-385.0, -385.0, -400.0, -400.0], \"yaxis\": \"y\"}, {\"hoverinfo\": \"text\", \"marker\": {\"color\": \"rgb(255,65,54)\"}, \"mode\": \"lines\", \"type\": \"scatter\", \"uid\": \"afad5214-6934-4cc1-8484-f89448d2037b\", \"x\": [0.0, 7.701528480246831, 7.701528480246831, 0.0], \"xaxis\": \"x\", \"y\": [-415.0, -415.0, -425.0, -425.0], \"yaxis\": \"y\"}, {\"hoverinfo\": \"text\", \"marker\": {\"color\": \"rgb(35,205,205)\"}, \"mode\": \"lines\", \"type\": \"scatter\", \"uid\": \"c4ecefa8-f4f8-4c6d-bf1b-c5692528e587\", \"x\": [0.0, 8.576377346097456, 8.576377346097456, 0.0], \"xaxis\": \"x\", \"y\": [-435.0, -435.0, -445.0, -445.0], \"yaxis\": \"y\"}, {\"hoverinfo\": \"text\", \"marker\": {\"color\": \"rgb(0,116,217)\"}, \"mode\": \"lines\", \"type\": \"scatter\", \"uid\": \"3679669c-c0b7-4b7c-a410-790a46e92901\", \"x\": [7.701528480246831, 10.934549262389142, 10.934549262389142, 8.576377346097456], \"xaxis\": \"x\", \"y\": [-420.0, -420.0, -440.0, -440.0], \"yaxis\": \"y\"}, {\"hoverinfo\": \"text\", \"marker\": {\"color\": \"rgb(0,116,217)\"}, \"mode\": \"lines\", \"type\": \"scatter\", \"uid\": \"f6856d36-16e1-451c-8191-fa88385fe1b5\", \"x\": [9.888539925729546, 12.192969150324544, 12.192969150324544, 10.934549262389142], \"xaxis\": \"x\", \"y\": [-392.5, -392.5, -430.0, -430.0], \"yaxis\": \"y\"}, {\"hoverinfo\": \"text\", \"marker\": {\"color\": \"rgb(0,116,217)\"}, \"mode\": \"lines\", \"type\": \"scatter\", \"uid\": \"3b432859-cc16-4463-85c5-0dfad34febe9\", \"x\": [11.799182165778666, 12.640248053989845, 12.640248053989845, 12.192969150324544], \"xaxis\": \"x\", \"y\": [-153.955078125, -153.955078125, -411.25, -411.25], \"yaxis\": \"y\"}, {\"hoverinfo\": \"text\", \"marker\": {\"color\": \"rgb(133,20,75)\"}, \"mode\": \"lines\", \"type\": \"scatter\", \"uid\": \"1faa7f51-5dd2-47ca-b6fe-8d2e75765f32\", \"x\": [0.0, 6.9117544156842, 6.9117544156842, 0.0], \"xaxis\": \"x\", \"y\": [-465.0, -465.0, -475.0, -475.0], \"yaxis\": \"y\"}, {\"hoverinfo\": \"text\", \"marker\": {\"color\": \"rgb(133,20,75)\"}, \"mode\": \"lines\", \"type\": \"scatter\", \"uid\": \"6c259e9e-f085-42e6-ae99-4386956e7b4e\", \"x\": [0.0, 6.9869984165739085, 6.9869984165739085, 6.9117544156842], \"xaxis\": \"x\", \"y\": [-455.0, -455.0, -470.0, -470.0], \"yaxis\": \"y\"}, {\"hoverinfo\": \"text\", \"marker\": {\"color\": \"rgb(133,20,75)\"}, \"mode\": \"lines\", \"type\": \"scatter\", \"uid\": \"38c6a1cf-8c65-4106-8e3a-f1551ffe71bd\", \"x\": [0.0, 4.175485478142256, 4.175485478142256, 0.0], \"xaxis\": \"x\", \"y\": [-505.0, -505.0, -515.0, -515.0], \"yaxis\": \"y\"}, {\"hoverinfo\": \"text\", \"marker\": {\"color\": \"rgb(133,20,75)\"}, \"mode\": \"lines\", \"type\": \"scatter\", \"uid\": \"5eccb2ac-a52d-4842-8252-926064cdb3e4\", \"x\": [0.0, 6.018311158668487, 6.018311158668487, 4.175485478142256], \"xaxis\": \"x\", \"y\": [-495.0, -495.0, -510.0, -510.0], \"yaxis\": \"y\"}, {\"hoverinfo\": \"text\", \"marker\": {\"color\": \"rgb(133,20,75)\"}, \"mode\": \"lines\", \"type\": \"scatter\", \"uid\": \"fc2ff870-af98-4af7-b9e1-29c6021f9f4a\", \"x\": [0.0, 7.665628534680131, 7.665628534680131, 6.018311158668487], \"xaxis\": \"x\", \"y\": [-485.0, -485.0, -502.5, -502.5], \"yaxis\": \"y\"}, {\"hoverinfo\": \"text\", \"marker\": {\"color\": \"rgb(133,20,75)\"}, \"mode\": \"lines\", \"type\": \"scatter\", \"uid\": \"df503594-cb38-4b70-8720-76d16cb4e15b\", \"x\": [6.9869984165739085, 9.343143633268157, 9.343143633268157, 7.665628534680131], \"xaxis\": \"x\", \"y\": [-462.5, -462.5, -493.75, -493.75], \"yaxis\": \"y\"}, {\"hoverinfo\": \"text\", \"marker\": {\"color\": \"rgb(255,220,0)\"}, \"mode\": \"lines\", \"type\": \"scatter\", \"uid\": \"645e62a0-353e-4067-bfb6-f786de323458\", \"x\": [0.0, 7.2487424842251995, 7.2487424842251995, 0.0], \"xaxis\": \"x\", \"y\": [-525.0, -525.0, -535.0, -535.0], \"yaxis\": \"y\"}, {\"hoverinfo\": \"text\", \"marker\": {\"color\": \"rgb(40,35,35)\"}, \"mode\": \"lines\", \"type\": \"scatter\", \"uid\": \"7f7d2f98-c474-434a-948c-1670d7edd1c9\", \"x\": [0.0, 8.939768552269182, 8.939768552269182, 0.0], \"xaxis\": \"x\", \"y\": [-545.0, -545.0, -555.0, -555.0], \"yaxis\": \"y\"}, {\"hoverinfo\": \"text\", \"marker\": {\"color\": \"rgb(0,116,217)\"}, \"mode\": \"lines\", \"type\": \"scatter\", \"uid\": \"9468b39f-92fd-4ee8-b146-79b1812027a5\", \"x\": [7.2487424842251995, 10.304915346999726, 10.304915346999726, 8.939768552269182], \"xaxis\": \"x\", \"y\": [-530.0, -530.0, -550.0, -550.0], \"yaxis\": \"y\"}, {\"hoverinfo\": \"text\", \"marker\": {\"color\": \"rgb(0,116,217)\"}, \"mode\": \"lines\", \"type\": \"scatter\", \"uid\": \"1527bb02-4bdb-426c-85ba-5709574ff98f\", \"x\": [9.343143633268157, 10.994113975229508, 10.994113975229508, 10.304915346999726], \"xaxis\": \"x\", \"y\": [-478.125, -478.125, -540.0, -540.0], \"yaxis\": \"y\"}, {\"hoverinfo\": \"text\", \"marker\": {\"color\": \"rgb(61,153,112)\"}, \"mode\": \"lines\", \"type\": \"scatter\", \"uid\": \"06333938-da69-4b91-a059-44e6011571ad\", \"x\": [0.0, 7.485565758310931, 7.485565758310931, 0.0], \"xaxis\": \"x\", \"y\": [-565.0, -565.0, -575.0, -575.0], \"yaxis\": \"y\"}, {\"hoverinfo\": \"text\", \"marker\": {\"color\": \"rgb(61,153,112)\"}, \"mode\": \"lines\", \"type\": \"scatter\", \"uid\": \"da4610f2-3573-4ed5-8403-cd0bab63a119\", \"x\": [0.0, 7.855939552322733, 7.855939552322733, 0.0], \"xaxis\": \"x\", \"y\": [-595.0, -595.0, -605.0, -605.0], \"yaxis\": \"y\"}, {\"hoverinfo\": \"text\", \"marker\": {\"color\": \"rgb(61,153,112)\"}, \"mode\": \"lines\", \"type\": \"scatter\", \"uid\": \"0e4cf21c-f064-47ff-9510-b81bb2b12729\", \"x\": [0.0, 8.66927030335403, 8.66927030335403, 7.855939552322733], \"xaxis\": \"x\", \"y\": [-585.0, -585.0, -600.0, -600.0], \"yaxis\": \"y\"}, {\"hoverinfo\": \"text\", \"marker\": {\"color\": \"rgb(61,153,112)\"}, \"mode\": \"lines\", \"type\": \"scatter\", \"uid\": \"5545ac6b-f6cd-4f7b-b270-1f30a1ba4ee6\", \"x\": [7.485565758310931, 9.33098833556072, 9.33098833556072, 8.66927030335403], \"xaxis\": \"x\", \"y\": [-570.0, -570.0, -592.5, -592.5], \"yaxis\": \"y\"}, {\"hoverinfo\": \"text\", \"marker\": {\"color\": \"rgb(255,65,54)\"}, \"mode\": \"lines\", \"type\": \"scatter\", \"uid\": \"a3430b05-f165-447d-8229-388a7f4cb47c\", \"x\": [0.0, 8.410733517366335, 8.410733517366335, 0.0], \"xaxis\": \"x\", \"y\": [-615.0, -615.0, -625.0, -625.0], \"yaxis\": \"y\"}, {\"hoverinfo\": \"text\", \"marker\": {\"color\": \"rgb(35,205,205)\"}, \"mode\": \"lines\", \"type\": \"scatter\", \"uid\": \"138af811-3d77-4c76-bddc-492af3d25c65\", \"x\": [0.0, 8.213580150728312, 8.213580150728312, 0.0], \"xaxis\": \"x\", \"y\": [-635.0, -635.0, -645.0, -645.0], \"yaxis\": \"y\"}, {\"hoverinfo\": \"text\", \"marker\": {\"color\": \"rgb(35,205,205)\"}, \"mode\": \"lines\", \"type\": \"scatter\", \"uid\": \"752c1a56-170b-41fd-85dd-efb5f7043a7c\", \"x\": [0.0, 5.24921553602883, 5.24921553602883, 0.0], \"xaxis\": \"x\", \"y\": [-655.0, -655.0, -665.0, -665.0], \"yaxis\": \"y\"}, {\"hoverinfo\": \"text\", \"marker\": {\"color\": \"rgb(35,205,205)\"}, \"mode\": \"lines\", \"type\": \"scatter\", \"uid\": \"46b33dde-c96e-498c-afff-5203b689a5bb\", \"x\": [0.0, 7.7668317547047705, 7.7668317547047705, 0.0], \"xaxis\": \"x\", \"y\": [-675.0, -675.0, -685.0, -685.0], \"yaxis\": \"y\"}, {\"hoverinfo\": \"text\", \"marker\": {\"color\": \"rgb(35,205,205)\"}, \"mode\": \"lines\", \"type\": \"scatter\", \"uid\": \"f666d9c1-b9b7-4fe1-acf1-e02ccc587bc3\", \"x\": [5.24921553602883, 9.114096714679214, 9.114096714679214, 7.7668317547047705], \"xaxis\": \"x\", \"y\": [-660.0, -660.0, -680.0, -680.0], \"yaxis\": \"y\"}, {\"hoverinfo\": \"text\", \"marker\": {\"color\": \"rgb(35,205,205)\"}, \"mode\": \"lines\", \"type\": \"scatter\", \"uid\": \"c34175fd-3c4e-4d90-aaaa-6ead0abc2875\", \"x\": [8.213580150728312, 9.658501900735896, 9.658501900735896, 9.114096714679214], \"xaxis\": \"x\", \"y\": [-640.0, -640.0, -670.0, -670.0], \"yaxis\": \"y\"}, {\"hoverinfo\": \"text\", \"marker\": {\"color\": \"rgb(0,116,217)\"}, \"mode\": \"lines\", \"type\": \"scatter\", \"uid\": \"1568d948-1bb7-434a-b709-defa5d51e090\", \"x\": [8.410733517366335, 11.241558669095431, 11.241558669095431, 9.658501900735896], \"xaxis\": \"x\", \"y\": [-620.0, -620.0, -655.0, -655.0], \"yaxis\": \"y\"}, {\"hoverinfo\": \"text\", \"marker\": {\"color\": \"rgb(0,116,217)\"}, \"mode\": \"lines\", \"type\": \"scatter\", \"uid\": \"02604c20-fa61-4fc1-883c-bb826d8f205c\", \"x\": [9.33098833556072, 11.731276688989562, 11.731276688989562, 11.241558669095431], \"xaxis\": \"x\", \"y\": [-581.25, -581.25, -637.5, -637.5], \"yaxis\": \"y\"}, {\"hoverinfo\": \"text\", \"marker\": {\"color\": \"rgb(0,116,217)\"}, \"mode\": \"lines\", \"type\": \"scatter\", \"uid\": \"18ee9ed9-aafc-4ed1-b16c-0c1e5c4b179d\", \"x\": [10.994113975229508, 12.093516174047066, 12.093516174047066, 11.731276688989562], \"xaxis\": \"x\", \"y\": [-509.0625, -509.0625, -609.375, -609.375], \"yaxis\": \"y\"}, {\"hoverinfo\": \"text\", \"marker\": {\"color\": \"rgb(133,20,75)\"}, \"mode\": \"lines\", \"type\": \"scatter\", \"uid\": \"bebef7bb-9ee6-4ae0-b98b-3e90dfa90e9c\", \"x\": [0.0, 6.631888524939632, 6.631888524939632, 0.0], \"xaxis\": \"x\", \"y\": [-695.0, -695.0, -705.0, -705.0], \"yaxis\": \"y\"}, {\"hoverinfo\": \"text\", \"marker\": {\"color\": \"rgb(133,20,75)\"}, \"mode\": \"lines\", \"type\": \"scatter\", \"uid\": \"9f4188bc-56e4-4e2f-a072-0739e1157a9b\", \"x\": [0.0, 7.3091538049779, 7.3091538049779, 0.0], \"xaxis\": \"x\", \"y\": [-715.0, -715.0, -725.0, -725.0], \"yaxis\": \"y\"}, {\"hoverinfo\": \"text\", \"marker\": {\"color\": \"rgb(133,20,75)\"}, \"mode\": \"lines\", \"type\": \"scatter\", \"uid\": \"94f836a7-6aea-475d-a70b-6fb38e23e291\", \"x\": [6.631888524939632, 9.704715319228784, 9.704715319228784, 7.3091538049779], \"xaxis\": \"x\", \"y\": [-700.0, -700.0, -720.0, -720.0], \"yaxis\": \"y\"}, {\"hoverinfo\": \"text\", \"marker\": {\"color\": \"rgb(255,220,0)\"}, \"mode\": \"lines\", \"type\": \"scatter\", \"uid\": \"d4be1491-7dc4-4b50-9bbb-98dfcc9f4a4c\", \"x\": [0.0, 6.570506022822609, 6.570506022822609, 0.0], \"xaxis\": \"x\", \"y\": [-745.0, -745.0, -755.0, -755.0], \"yaxis\": \"y\"}, {\"hoverinfo\": \"text\", \"marker\": {\"color\": \"rgb(255,220,0)\"}, \"mode\": \"lines\", \"type\": \"scatter\", \"uid\": \"8da7cd78-92a9-49c5-b43f-a686ba6d0632\", \"x\": [0.0, 8.514543722513583, 8.514543722513583, 6.570506022822609], \"xaxis\": \"x\", \"y\": [-735.0, -735.0, -750.0, -750.0], \"yaxis\": \"y\"}, {\"hoverinfo\": \"text\", \"marker\": {\"color\": \"rgb(40,35,35)\"}, \"mode\": \"lines\", \"type\": \"scatter\", \"uid\": \"965e670f-2cbe-4daa-9b02-0d171ec39b07\", \"x\": [0.0, 7.489775164585156, 7.489775164585156, 0.0], \"xaxis\": \"x\", \"y\": [-775.0, -775.0, -785.0, -785.0], \"yaxis\": \"y\"}, {\"hoverinfo\": \"text\", \"marker\": {\"color\": \"rgb(40,35,35)\"}, \"mode\": \"lines\", \"type\": \"scatter\", \"uid\": \"985137c6-2393-4fed-82c6-41bbee3c20bf\", \"x\": [0.0, 7.801993061849155, 7.801993061849155, 7.489775164585156], \"xaxis\": \"x\", \"y\": [-765.0, -765.0, -780.0, -780.0], \"yaxis\": \"y\"}, {\"hoverinfo\": \"text\", \"marker\": {\"color\": \"rgb(40,35,35)\"}, \"mode\": \"lines\", \"type\": \"scatter\", \"uid\": \"2e93fc51-3bba-4c13-b291-8f191bf71b64\", \"x\": [0.0, 7.005152164747785, 7.005152164747785, 0.0], \"xaxis\": \"x\", \"y\": [-795.0, -795.0, -805.0, -805.0], \"yaxis\": \"y\"}, {\"hoverinfo\": \"text\", \"marker\": {\"color\": \"rgb(40,35,35)\"}, \"mode\": \"lines\", \"type\": \"scatter\", \"uid\": \"958e4e5e-c7bc-4e01-955d-e23f8393c130\", \"x\": [0.0, 6.141314199281556, 6.141314199281556, 0.0], \"xaxis\": \"x\", \"y\": [-825.0, -825.0, -835.0, -835.0], \"yaxis\": \"y\"}, {\"hoverinfo\": \"text\", \"marker\": {\"color\": \"rgb(40,35,35)\"}, \"mode\": \"lines\", \"type\": \"scatter\", \"uid\": \"7c660dc9-cac8-425c-80f3-159782045bb2\", \"x\": [0.0, 7.281782739422904, 7.281782739422904, 6.141314199281556], \"xaxis\": \"x\", \"y\": [-815.0, -815.0, -830.0, -830.0], \"yaxis\": \"y\"}, {\"hoverinfo\": \"text\", \"marker\": {\"color\": \"rgb(40,35,35)\"}, \"mode\": \"lines\", \"type\": \"scatter\", \"uid\": \"c9bf41f3-0028-43dc-ba02-0d56e17eb3d1\", \"x\": [7.005152164747785, 8.156833520773477, 8.156833520773477, 7.281782739422904], \"xaxis\": \"x\", \"y\": [-800.0, -800.0, -822.5, -822.5], \"yaxis\": \"y\"}, {\"hoverinfo\": \"text\", \"marker\": {\"color\": \"rgb(40,35,35)\"}, \"mode\": \"lines\", \"type\": \"scatter\", \"uid\": \"577cf368-5d66-4000-8226-13a4c254177e\", \"x\": [7.801993061849155, 9.027387948599328, 9.027387948599328, 8.156833520773477], \"xaxis\": \"x\", \"y\": [-772.5, -772.5, -811.25, -811.25], \"yaxis\": \"y\"}, {\"hoverinfo\": \"text\", \"marker\": {\"color\": \"rgb(0,116,217)\"}, \"mode\": \"lines\", \"type\": \"scatter\", \"uid\": \"42812bef-87d1-4c92-a0b7-ed67c88de5aa\", \"x\": [8.514543722513583, 10.547894101421523, 10.547894101421523, 9.027387948599328], \"xaxis\": \"x\", \"y\": [-742.5, -742.5, -791.875, -791.875], \"yaxis\": \"y\"}, {\"hoverinfo\": \"text\", \"marker\": {\"color\": \"rgb(0,116,217)\"}, \"mode\": \"lines\", \"type\": \"scatter\", \"uid\": \"c490bdc1-1129-4292-8634-0fbe8c94eb56\", \"x\": [9.704715319228784, 11.008556317953609, 11.008556317953609, 10.547894101421523], \"xaxis\": \"x\", \"y\": [-710.0, -710.0, -767.1875, -767.1875], \"yaxis\": \"y\"}, {\"hoverinfo\": \"text\", \"marker\": {\"color\": \"rgb(61,153,112)\"}, \"mode\": \"lines\", \"type\": \"scatter\", \"uid\": \"1e93f295-a738-42b8-96a5-4d0e0417c026\", \"x\": [0.0, 7.414312250280279, 7.414312250280279, 0.0], \"xaxis\": \"x\", \"y\": [-845.0, -845.0, -855.0, -855.0], \"yaxis\": \"y\"}, {\"hoverinfo\": \"text\", \"marker\": {\"color\": \"rgb(61,153,112)\"}, \"mode\": \"lines\", \"type\": \"scatter\", \"uid\": \"6b5b07ce-6339-4431-95ff-234b245ebe10\", \"x\": [0.0, 5.54206728583633, 5.54206728583633, 0.0], \"xaxis\": \"x\", \"y\": [-875.0, -875.0, -885.0, -885.0], \"yaxis\": \"y\"}, {\"hoverinfo\": \"text\", \"marker\": {\"color\": \"rgb(61,153,112)\"}, \"mode\": \"lines\", \"type\": \"scatter\", \"uid\": \"53614aa4-1240-422c-a3f1-2f1315ec7fe7\", \"x\": [0.0, 7.524246594189803, 7.524246594189803, 5.54206728583633], \"xaxis\": \"x\", \"y\": [-865.0, -865.0, -880.0, -880.0], \"yaxis\": \"y\"}, {\"hoverinfo\": \"text\", \"marker\": {\"color\": \"rgb(61,153,112)\"}, \"mode\": \"lines\", \"type\": \"scatter\", \"uid\": \"9c53d437-3123-4ca2-b6de-9da31f7b00a5\", \"x\": [7.414312250280279, 9.60750139305076, 9.60750139305076, 7.524246594189803], \"xaxis\": \"x\", \"y\": [-850.0, -850.0, -872.5, -872.5], \"yaxis\": \"y\"}, {\"hoverinfo\": \"text\", \"marker\": {\"color\": \"rgb(255,65,54)\"}, \"mode\": \"lines\", \"type\": \"scatter\", \"uid\": \"a5425210-8bbc-4a8b-bf02-6b75d71f9efd\", \"x\": [0.0, 5.605242780826221, 5.605242780826221, 0.0], \"xaxis\": \"x\", \"y\": [-895.0, -895.0, -905.0, -905.0], \"yaxis\": \"y\"}, {\"hoverinfo\": \"text\", \"marker\": {\"color\": \"rgb(255,65,54)\"}, \"mode\": \"lines\", \"type\": \"scatter\", \"uid\": \"57fab7b3-6277-4c20-b51f-767e4a756566\", \"x\": [0.0, 6.504592763042438, 6.504592763042438, 0.0], \"xaxis\": \"x\", \"y\": [-915.0, -915.0, -925.0, -925.0], \"yaxis\": \"y\"}, {\"hoverinfo\": \"text\", \"marker\": {\"color\": \"rgb(255,65,54)\"}, \"mode\": \"lines\", \"type\": \"scatter\", \"uid\": \"6f8469ab-85a1-48fd-9eb3-be6e9afab4a0\", \"x\": [5.605242780826221, 7.416615281106617, 7.416615281106617, 6.504592763042438], \"xaxis\": \"x\", \"y\": [-900.0, -900.0, -920.0, -920.0], \"yaxis\": \"y\"}, {\"hoverinfo\": \"text\", \"marker\": {\"color\": \"rgb(255,65,54)\"}, \"mode\": \"lines\", \"type\": \"scatter\", \"uid\": \"103ce826-b4df-495b-9c78-39c4df3126a4\", \"x\": [0.0, 6.73110724129063, 6.73110724129063, 0.0], \"xaxis\": \"x\", \"y\": [-945.0, -945.0, -955.0, -955.0], \"yaxis\": \"y\"}, {\"hoverinfo\": \"text\", \"marker\": {\"color\": \"rgb(255,65,54)\"}, \"mode\": \"lines\", \"type\": \"scatter\", \"uid\": \"a2d3b5e9-ab2c-47d7-a639-efb42bcfc229\", \"x\": [0.0, 8.173021326855833, 8.173021326855833, 6.73110724129063], \"xaxis\": \"x\", \"y\": [-935.0, -935.0, -950.0, -950.0], \"yaxis\": \"y\"}, {\"hoverinfo\": \"text\", \"marker\": {\"color\": \"rgb(255,65,54)\"}, \"mode\": \"lines\", \"type\": \"scatter\", \"uid\": \"04885d8e-6e67-49cc-9fb8-fe1a774d366b\", \"x\": [7.416615281106617, 9.300300748357818, 9.300300748357818, 8.173021326855833], \"xaxis\": \"x\", \"y\": [-910.0, -910.0, -942.5, -942.5], \"yaxis\": \"y\"}, {\"hoverinfo\": \"text\", \"marker\": {\"color\": \"rgb(35,205,205)\"}, \"mode\": \"lines\", \"type\": \"scatter\", \"uid\": \"4be09c2b-ae66-491c-88f9-6cf778e53cb2\", \"x\": [0.0, 7.35800191633362, 7.35800191633362, 0.0], \"xaxis\": \"x\", \"y\": [-985.0, -985.0, -995.0, -995.0], \"yaxis\": \"y\"}, {\"hoverinfo\": \"text\", \"marker\": {\"color\": \"rgb(35,205,205)\"}, \"mode\": \"lines\", \"type\": \"scatter\", \"uid\": \"ea221535-339b-4bd1-8c9d-dab1964df06c\", \"x\": [0.0, 7.782170888300851, 7.782170888300851, 7.35800191633362], \"xaxis\": \"x\", \"y\": [-975.0, -975.0, -990.0, -990.0], \"yaxis\": \"y\"}, {\"hoverinfo\": \"text\", \"marker\": {\"color\": \"rgb(35,205,205)\"}, \"mode\": \"lines\", \"type\": \"scatter\", \"uid\": \"187f8709-0c80-46f4-9aeb-c9f6e85fa371\", \"x\": [0.0, 9.849897685857439, 9.849897685857439, 7.782170888300851], \"xaxis\": \"x\", \"y\": [-965.0, -965.0, -982.5, -982.5], \"yaxis\": \"y\"}, {\"hoverinfo\": \"text\", \"marker\": {\"color\": \"rgb(0,116,217)\"}, \"mode\": \"lines\", \"type\": \"scatter\", \"uid\": \"0d9161b7-15d1-4cef-8c25-70bfedb9865f\", \"x\": [9.300300748357818, 10.444506696419374, 10.444506696419374, 9.849897685857439], \"xaxis\": \"x\", \"y\": [-926.25, -926.25, -973.75, -973.75], \"yaxis\": \"y\"}, {\"hoverinfo\": \"text\", \"marker\": {\"color\": \"rgb(0,116,217)\"}, \"mode\": \"lines\", \"type\": \"scatter\", \"uid\": \"df265277-595e-448b-99ab-2887c80d0ad9\", \"x\": [9.60750139305076, 11.923067501270559, 11.923067501270559, 10.444506696419374], \"xaxis\": \"x\", \"y\": [-861.25, -861.25, -950.0, -950.0], \"yaxis\": \"y\"}, {\"hoverinfo\": \"text\", \"marker\": {\"color\": \"rgb(0,116,217)\"}, \"mode\": \"lines\", \"type\": \"scatter\", \"uid\": \"ddc7f2b0-8186-49b4-ab0f-4a5c8e15fc0b\", \"x\": [11.008556317953609, 12.256619800833208, 12.256619800833208, 11.923067501270559], \"xaxis\": \"x\", \"y\": [-738.59375, -738.59375, -905.625, -905.625], \"yaxis\": \"y\"}, {\"hoverinfo\": \"text\", \"marker\": {\"color\": \"rgb(0,116,217)\"}, \"mode\": \"lines\", \"type\": \"scatter\", \"uid\": \"e6da0032-3803-4d32-ba7c-78ca3ce85414\", \"x\": [12.093516174047066, 13.107522693032791, 13.107522693032791, 12.256619800833208], \"xaxis\": \"x\", \"y\": [-559.21875, -559.21875, -822.109375, -822.109375], \"yaxis\": \"y\"}, {\"hoverinfo\": \"text\", \"marker\": {\"color\": \"rgb(0,116,217)\"}, \"mode\": \"lines\", \"type\": \"scatter\", \"uid\": \"8696d6c1-092a-4eda-b35d-f63a78498793\", \"x\": [12.640248053989845, 14.199768778044012, 14.199768778044012, 13.107522693032791], \"xaxis\": \"x\", \"y\": [-282.6025390625, -282.6025390625, -690.6640625, -690.6640625], \"yaxis\": \"y\"}, {\"hoverinfo\": \"text\", \"marker\": {\"color\": \"rgb(0,116,217)\"}, \"mode\": \"lines\", \"type\": \"scatter\", \"uid\": \"7377198f-5e55-4201-bcfe-9f2572fa6645\", \"x\": [11.446405209034507, 14.477905583337392, 14.477905583337392, 14.199768778044012], \"xaxis\": \"x\", \"y\": [-26.25, -26.25, -486.63330078125, -486.63330078125], \"yaxis\": \"y\"}],\n                        {\"autosize\": false, \"height\": 1200, \"hovermode\": \"closest\", \"showlegend\": false, \"title\": {\"text\": \"Dendrogram of MNIST\"}, \"width\": 600, \"xaxis\": {\"mirror\": \"allticks\", \"rangemode\": \"tozero\", \"showgrid\": false, \"showline\": true, \"showticklabels\": true, \"tickangle\": 90, \"ticks\": \"outside\", \"title\": {\"text\": \"Difference Level\"}, \"type\": \"linear\", \"zeroline\": false}, \"yaxis\": {\"mirror\": \"allticks\", \"rangemode\": \"tozero\", \"showgrid\": false, \"showline\": true, \"showticklabels\": true, \"tickmode\": \"array\", \"ticks\": \"outside\", \"ticktext\": [\"1\", \"3\", \"8\", \"5\", \"6\", \"22\", \"27\", \"20\", \"25\", \"26\", \"83\", \"36\", \"39\", \"31\", \"34\", \"32\", \"55\", \"70\", \"14\", \"10\", \"13\", \"17\", \"11\", \"15\", \"16\", \"2\", \"82\", \"89\", \"80\", \"86\", \"30\", \"35\", \"38\", \"81\", \"12\", \"87\", \"18\", \"19\", \"59\", \"21\", \"29\", \"33\", \"85\", \"37\", \"54\", \"65\", \"63\", \"66\", \"60\", \"67\", \"61\", \"69\", \"7\", \"9\", \"28\", \"88\", \"42\", \"44\", \"62\", \"64\", \"68\", \"0\", \"4\", \"23\", \"24\", \"56\", \"58\", \"52\", \"84\", \"51\", \"57\", \"50\", \"53\", \"90\", \"45\", \"48\", \"47\", \"79\", \"98\", \"49\", \"94\", \"95\", \"91\", \"96\", \"72\", \"77\", \"71\", \"73\", \"78\", \"92\", \"99\", \"40\", \"43\", \"41\", \"46\", \"93\", \"97\", \"76\", \"74\", \"75\"], \"tickvals\": [-5.0, -15.0, -25.0, -35.0, -45.0, -55.0, -65.0, -75.0, -85.0, -95.0, -105.0, -115.0, -125.0, -135.0, -145.0, -155.0, -165.0, -175.0, -185.0, -195.0, -205.0, -215.0, -225.0, -235.0, -245.0, -255.0, -265.0, -275.0, -285.0, -295.0, -305.0, -315.0, -325.0, -335.0, -345.0, -355.0, -365.0, -375.0, -385.0, -395.0, -405.0, -415.0, -425.0, -435.0, -445.0, -455.0, -465.0, -475.0, -485.0, -495.0, -505.0, -515.0, -525.0, -535.0, -545.0, -555.0, -565.0, -575.0, -585.0, -595.0, -605.0, -615.0, -625.0, -635.0, -645.0, -655.0, -665.0, -675.0, -685.0, -695.0, -705.0, -715.0, -725.0, -735.0, -745.0, -755.0, -765.0, -775.0, -785.0, -795.0, -805.0, -815.0, -825.0, -835.0, -845.0, -855.0, -865.0, -875.0, -885.0, -895.0, -905.0, -915.0, -925.0, -935.0, -945.0, -955.0, -965.0, -975.0, -985.0, -995.0], \"title\": {\"text\": \"Observation\"}, \"type\": \"linear\", \"zeroline\": false}},\n                        {\"showLink\": false, \"linkText\": \"Export to plot.ly\", \"plotlyServerURL\": \"https://plot.ly\", \"responsive\": true}\n                    ).then(function(){\n                            \nvar gd = document.getElementById('d8af98e7-ae73-43f7-b72b-27590a75e21e');\nvar x = new MutationObserver(function (mutations, observer) {{\n        var display = window.getComputedStyle(gd).display;\n        if (!display || display === 'none') {{\n            console.log([gd, 'removed!']);\n            Plotly.purge(gd);\n            observer.disconnect();\n        }}\n}});\n\n// Listen for the removal of the full notebook cells\nvar notebookContainer = gd.closest('#notebook-container');\nif (notebookContainer) {{\n    x.observe(notebookContainer, {childList: true});\n}}\n\n// Listen for the clearing of the current output cell\nvar outputEl = gd.closest('.output');\nif (outputEl) {{\n    x.observe(outputEl, {childList: true});\n}}\n\n                        })\n                };\n                });\n            </script>\n        </div>"
          },
          "metadata": {}
        }
      ]
    },
    {
      "metadata": {},
      "cell_type": "markdown",
      "source": "There is a significant amount of nuance to our MNIST data that clustering is unable to determine. The clusters do not seem to resemble groups of ten at any level, and each group of ten observations (all digits are grouped by the label in our small sample data) is scattered across the dendrogram."
    },
    {
      "metadata": {
        "state": "normal"
      },
      "cell_type": "markdown",
      "source": "**Describe it:**\n\nChoose a question that you think would benefit from being described through a clustering algorithm. Find a data set that might be capable of answering your question, and explain why you believe that clustering would be beneficial to answering the question with that particular data set. Then, provide code to load the data of your choice and perform the clustering that you explained.\n\nThe first graded cell should contain your explanation, and the second graded cell should contain your code. Your work will be graded as follows:\n\n- You state a specific research question **[1 point]**\n- You find and indicate data that could answer that question **[1 point]**\n- You explain how clustering would be beneficial **[1 point]**\n- You load the data you found **[1 point]**\n- You implement clustering on the data that you loaded **[1 point]**"
    },
    {
      "metadata": {
        "state": "graded",
        "id": "spicy_boi",
        "deletable": false,
        "trusted": false
      },
      "cell_type": "code",
      "source": "",
      "execution_count": null,
      "outputs": []
    },
    {
      "metadata": {
        "state": "normal"
      },
      "cell_type": "markdown",
      "source": "Code goes here $\\downarrow\\downarrow\\downarrow$"
    },
    {
      "metadata": {
        "state": "graded",
        "id": "aged_ullr",
        "deletable": false,
        "trusted": false
      },
      "cell_type": "code",
      "source": "",
      "execution_count": null,
      "outputs": []
    }
  ],
  "metadata": {
    "kernelspec": {
      "name": "python3",
      "display_name": "Python 3",
      "language": "python"
    },
    "language_info": {
      "name": "python",
      "version": "3.7.3",
      "mimetype": "text/x-python",
      "codemirror_mode": {
        "name": "ipython",
        "version": 3
      },
      "pygments_lexer": "ipython3",
      "nbconvert_exporter": "python",
      "file_extension": ".py"
    },
    "mimir": {
      "project_id": "1651c346-6a99-4281-ab21-9fc04e5c28be",
      "last_submission_id": "",
      "data": {}
    },
    "varInspector": {
      "window_display": false,
      "cols": {
        "lenName": 16,
        "lenType": 16,
        "lenVar": 40
      },
      "kernels_config": {
        "python": {
          "library": "var_list.py",
          "delete_cmd_prefix": "del ",
          "delete_cmd_postfix": "",
          "varRefreshCmd": "print(var_dic_list())"
        },
        "r": {
          "library": "var_list.r",
          "delete_cmd_prefix": "rm(",
          "delete_cmd_postfix": ") ",
          "varRefreshCmd": "cat(var_dic_list()) "
        }
      },
      "types_to_exclude": [
        "module",
        "function",
        "builtin_function_or_method",
        "instance",
        "_Feature"
      ]
    }
  },
  "nbformat": 4,
  "nbformat_minor": 2
}