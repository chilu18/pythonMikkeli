{
  "cells": [
    {
      "metadata": {
        "state": "normal"
      },
      "cell_type": "markdown",
      "source": "# Functions\n\nFunctions are an excellent addition to our ability to generate reusable code, and can save us significant effort when we want to recycle code from one problem to the next. In fact, there will come a time later in this course where we will do very little programming that does not involve functions on just about every line of our code. Functions are where computer programs really get their strength, especially when used together with logical statements and loops to create simple instructions that we can use to perform complex tasks.\n\nA function is created by using the keyword `def`, followed by the name of the new function we are creating. At the end of the name of the function, we place any the names of any values we want users to provide to our function within parentheses (`(` and `)`).\n\nLet's start by creating a function that can calculate the circumference of any circle. It will require our user to provide the radius of the circle, since the circumference of a circle is $2\\pi r$."
    },
    {
      "metadata": {
        "state": "normal",
        "trusted": false
      },
      "cell_type": "code",
      "source": "def circumference(r):\n    return 2*3.14159265*r",
      "execution_count": 6,
      "outputs": []
    },
    {
      "metadata": {
        "state": "normal"
      },
      "cell_type": "markdown",
      "source": "Our function starts just like we explained above. We declare a function named `circumference`, and in parentheses we ask the user to provide `r`, which we know is the radius of the circle. This `r` value is treated as a variable within our function, and we can refer to it by using `r` in our operations within the function.\n\nThe last line of any function should contain a `return` statement. This line tells our function what information to pass back to the program as a whole. It should typically be the final result of our function's operations.\n\nWhen we **declare** a function, like we did above, we tell Python what to do if we ask for a function to be executed. The function is NOT executed, though! Python waits until we **call** a function, like we will do below:"
    },
    {
      "metadata": {
        "state": "normal",
        "trusted": false
      },
      "cell_type": "code",
      "source": "circumference(2)",
      "execution_count": 7,
      "outputs": [
        {
          "data": {},
          "execution_count": 7,
          "metadata": {},
          "output_type": "execute_result"
        }
      ]
    },
    {
      "metadata": {
        "state": "normal"
      },
      "cell_type": "markdown",
      "source": "We just **called** our `circumference` function with an `r` value of `2`. The function evaluates the circumference of the circle with radius 2, and returns the calculated value upon completion.\n\nLet's write another fucntion, this time to calculate the *factorial* of a given number. A factorial is calculated as the product of an integer with all integers of smaller value. For example, $4!$ (4 factorial) is calculated as $4\\times3\\times2\\times1$."
    },
    {
      "metadata": {
        "state": "normal",
        "trusted": false
      },
      "cell_type": "code",
      "source": "def factorial(n):\n    fac = 1\n    while n > 0:\n        fac *= n\n        n -= 1\n    return fac",
      "execution_count": 8,
      "outputs": []
    },
    {
      "metadata": {
        "state": "normal"
      },
      "cell_type": "markdown",
      "source": "This function takes a number `n`, and multiplies it by 1. Then, it subtracts 1 from `n`, and repeats the process so long as n is still greater than 0. We can confirm that it works properly by calling the function:"
    },
    {
      "metadata": {
        "state": "normal",
        "scrolled": true,
        "trusted": false
      },
      "cell_type": "code",
      "source": "factorial(5)",
      "execution_count": 9,
      "outputs": [
        {
          "data": {},
          "execution_count": 9,
          "metadata": {},
          "output_type": "execute_result"
        }
      ]
    },
    {
      "metadata": {
        "state": "normal"
      },
      "cell_type": "markdown",
      "source": "**Solve it**: (from *The Python Workbook*)\n\nA prime number is an integer greater than 1 that is only divisible by one and itself. Write a function `isPrime` that determines whether or not its parameter is prime, returning True if it is, and False otherwise."
    },
    {
      "metadata": {
        "state": "graded",
        "id": "eager_mimir",
        "deletable": false,
        "starter_code": "def isPrime(x):",
        "trusted": true
      },
      "cell_type": "code",
      "source": "def isPrime(x):\n    if x<0:\n        return isPrime(-1*x)\n    elif x==0:\n        return False\n    elif x==1:\n        return False\n    else:\n        prime = True\n        for i in range(2,x):\n            if x/i==int(x/i):\n                return False\n        return True",
      "execution_count": 1,
      "outputs": []
    },
    {
      "metadata": {
        "state": "normal"
      },
      "cell_type": "markdown",
      "source": "**Solve it**: (from *The Python Workbook*)\n\nWrite a function called `taxiPrice` that calculates taxi fares. The function should accept as an argument `distance`, which is the distance travelled by taxi (measured in km), and should return a price (just the number is fine, no currency symbol is needed). The fee schedule is a &euro;4.00 base fee, with a charge of &euro;0.25 for each 140m traveled."
    },
    {
      "metadata": {
        "deletable": false,
        "id": "big_mani",
        "starter_code": "def taxiPrice(distance):",
        "state": "graded",
        "trusted": false
      },
      "cell_type": "code",
      "source": "def taxiPrice(distance):\n    return 4+0.25*(distance*(1000/140))",
      "execution_count": 18,
      "outputs": []
    },
    {
      "metadata": {
        "state": "normal"
      },
      "cell_type": "markdown",
      "source": "### Recursive Functions\n\nAnother really helpful feature of functions is the ability to call a function within itself. This process is called **recursion**, and makes otherwise intractable problems straightforward. First, let's look at an example of our `factorial` function that has been rewritten as a recursive function:"
    },
    {
      "metadata": {
        "state": "normal",
        "trusted": false
      },
      "cell_type": "code",
      "source": "def factorial(n):\n    if n <= 1:\n        return 1\n    else:\n        return n*factorial(n-1)",
      "execution_count": 10,
      "outputs": []
    },
    {
      "metadata": {
        "state": "normal"
      },
      "cell_type": "markdown",
      "source": "Recursive functions increase our ability to write flexible programs at the cost of sometimes taking longer to read and interpret. The function above contains some very simple logic that allows us to calculate the same values as our old `factorial` function:\n\n1) If `n` is less than or equal to 1, then we get back 1 as the resulting factorial. (Both 0 factorial and 1 factorial have a value of 1)\n\n2) For any other number `n`, we just want to multiply that number times the factorial of `n-1`. For example, the value of $2!$ is $2\\times 1!$, and the value of $3!$ is $3\\times2!$.\n\nOur program will continue to call `factorial(n-1)` until `n-1` is 1 or 0, at which point it will simply return the value `1`, and multiply each returned value back up the chain until we get our final result.\n\nRecursive programs aren't always necessary, but they come in very handy where we need to explore conditions with unclear stopping points (recursive problems in dynamic programming are common in Economics, for example)."
    },
    {
      "metadata": {
        "state": "normal"
      },
      "cell_type": "markdown",
      "source": "**Solve it**: \n\nWrite a **recursive** function to calculate the n-th Fibonacci number. You should name your function `fib` and it should take one argument (`n`). It should return the Fibonnaci number corresponding to `n`."
    },
    {
      "metadata": {
        "deletable": false,
        "id": "blue_sol",
        "state": "graded",
        "trusted": false
      },
      "cell_type": "code",
      "source": "def fib(n):\n    if n==0:\n        return 0\n    elif n==1:\n        return 1\n    else:\n        return fib(n-1) + fib(n-2)",
      "execution_count": 19,
      "outputs": []
    },
    {
      "metadata": {
        "state": "normal"
      },
      "cell_type": "markdown",
      "source": "### Why use functions?\n\nWhen we use functions, we are able to write code in a single place that can be recycled anywhere in our code. We can even call functions from one script into another! This means that we only have to maintain a single block of code for each task we hope to implement in Python, and then we are able to use it over and over again.\n\nThe alternative to this is to write the same code over and over again. If we make a mistake, we have to fix it over and over again. If we update our code to improve functionality, we have to update it over and over again.\n\nIn short, functions save us effort in writing lines of code, updating lines of code, and fixing potential mistakes in our code."
    },
    {
      "metadata": {
        "state": "normal"
      },
      "cell_type": "markdown",
      "source": "## Commenting our code\n\nIt is important that, as we begin writing more and more complex code, we learn to leave explanations of our code. In the future, users of our code (future you, future me, and other users, as well!) will have an easier time understanding and updating the code if they can quickly grasp what we are attempting to do with that code.\n\nThe first way that we can comment code is by using the `#` symbol. Putting a `#` anywhere in a line of Python indicates that ALL text from that point until the end of the line is not code, but is a comment. These comments only last until the end of the line, at which point Python treats the text as code again."
    },
    {
      "metadata": {
        "state": "normal",
        "trusted": false
      },
      "cell_type": "code",
      "source": "# This is a recursive function that calculates the factorial of n\ndef factorial(n):\n    if n <= 1:\n        return 1 # The return value for 0 and 1\n    else:\n        return n*factorial(n-1) # The return value for all numbers higher than 1",
      "execution_count": 12,
      "outputs": []
    },
    {
      "metadata": {
        "state": "normal"
      },
      "cell_type": "markdown",
      "source": "The comments provided above are helpful in understanding what is happening in our factorial code, but they are only visible while we are looking at the code itself. We would not be able to see those comments when we need help and are working in another script. Luckily, we also have ways to leave comments that are visible through the `help()` command at any time when working in Python.\n\n**docstrings** enable us to leave messages that can be accessed by users when they need to remember what a function does and how it works. **docstrings** are called by using triple quotes `\"\"\"` at the beginning and end of the **docstring**."
    },
    {
      "metadata": {
        "state": "normal",
        "trusted": false
      },
      "cell_type": "code",
      "source": "# This is a recursive function that calculates the factorial of n\ndef factorial(n):\n    \"\"\"\n    factorial(n) takes an integer (n) as input\n    and returns the mathematical factorial\n    of that number.\n    \"\"\"\n    if n <= 1:\n        return 1 # The return value for 0 and 1\n    else:\n        return n*factorial(n-1) # The return value for all numbers higher than 1",
      "execution_count": 14,
      "outputs": []
    },
    {
      "metadata": {
        "state": "normal"
      },
      "cell_type": "markdown",
      "source": "Now, we can use the line `help(factorial)` to get some guidance on our `factorial` function:"
    },
    {
      "metadata": {
        "state": "normal",
        "trusted": false
      },
      "cell_type": "code",
      "source": "help(factorial)",
      "execution_count": 15,
      "outputs": []
    },
    {
      "metadata": {
        "state": "normal"
      },
      "cell_type": "markdown",
      "source": "### When should we leave comments in our code?\n\nAlways! We should comment ALL code that we write. This allows us to pick up where we left off when working on long-term projects, but also makes it easier to collaborate on projects with other programmers. If you ever want your code to be used by others, commenting will be a valuable tool for those users.\n\nComment your code when:\n- You plan on using your code\n- You might look at your code again at a different time\n- Someone else might use your code\n- Someone else might update your code\n- Someone else might need to read your code\n\nIn other words, always comment your code."
    }
  ],
  "metadata": {
    "kernelspec": {
      "name": "python3",
      "display_name": "Python 3",
      "language": "python"
    },
    "language_info": {
      "name": "python",
      "version": "3.7.3",
      "mimetype": "text/x-python",
      "codemirror_mode": {
        "name": "ipython",
        "version": 3
      },
      "pygments_lexer": "ipython3",
      "nbconvert_exporter": "python",
      "file_extension": ".py"
    },
    "mimir": {
      "project_id": "f938236b-9ec8-4b0b-a13c-b7871970fe55",
      "last_submission_id": "",
      "data": {}
    },
    "varInspector": {
      "window_display": false,
      "cols": {
        "lenName": 16,
        "lenType": 16,
        "lenVar": 40
      },
      "kernels_config": {
        "python": {
          "library": "var_list.py",
          "delete_cmd_prefix": "del ",
          "delete_cmd_postfix": "",
          "varRefreshCmd": "print(var_dic_list())"
        },
        "r": {
          "library": "var_list.r",
          "delete_cmd_prefix": "rm(",
          "delete_cmd_postfix": ") ",
          "varRefreshCmd": "cat(var_dic_list()) "
        }
      },
      "types_to_exclude": [
        "module",
        "function",
        "builtin_function_or_method",
        "instance",
        "_Feature"
      ]
    }
  },
  "nbformat": 4,
  "nbformat_minor": 2
}