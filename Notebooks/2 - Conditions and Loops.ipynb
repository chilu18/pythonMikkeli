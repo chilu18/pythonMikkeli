{
  "cells": [
    {
      "metadata": {
        "state": "normal"
      },
      "cell_type": "markdown",
      "source": "# Conditions and Loops"
    },
    {
      "metadata": {
        "state": "normal"
      },
      "cell_type": "markdown",
      "source": "## Why do I need to know this?\n\nProgramming, at it's heart, is about being able to reduce the amount of work it takes to accomplish a task. In manufacturing, this would look like building a machine that can accomplish portions of a task with less human effort. By reducing the amount of work that we have to put into a process, we free ourselves up to focus on the tasks that are not so easily accomplished by anyone besides a competent human being (us). \n\nThink of a program as really tiny machinery. Your goal is to make a machine (in code) that can accomplish routine tasks for you. When you're done, you get to focus on other important tasks that demand your attention. For example, you might want to spend your time working on a forecast model, but first you need to check to make sure that all values in your time series are valid. You COULD just open up your data, and look at every record to make sure that each fits the rules that valid data should follow. Or you could write a program that can check every line for you, and either alert you to problems, or possibly fix them without you even having to be involved. Then, all of your time is freed for the forecasting model.\n\nLast week we talked about some of the types of information that we can store in Python. This week, we will start to learn about the tools that are baked into Python that allow us to begin the process of automation."
    },
    {
      "metadata": {
        "state": "normal"
      },
      "cell_type": "markdown",
      "source": "## Conditions\n\nWe have used conditions a few times already, but it is time to talk seriously about conditions and logical statements in Python. If you haven't noticed this yet, you will soon note that Python (and all other programming languages) are VERY literal. Things that we don't intend will occur whenever we assume that a computer will interpret an ambiguous statement in a single anticipated (by humans) way. Eventually, you will get used to being very careful when describing conditions in your code, and these problems will become less of an issue.\n\nIn Python, we have keywords that we can use to express different kinds of logic. Let's get started by talking about `if` statements. `if` statements function in Python pretty much the same way that they do in English: you state a condition, and then explain what should happen if that condition is met. You can then list alternative outcomes with the conditions that should be met prior to implementing those contingency plans. Finally, you can list what to do in any other outcomes that were not explicity described. Let's try this out:"
    },
    {
      "metadata": {
        "state": "normal",
        "trusted": false
      },
      "cell_type": "code",
      "source": "x = 150\n\nif x > 100:\n    print(\"Whoa, that's a big one!\")",
      "execution_count": 3,
      "outputs": []
    },
    {
      "metadata": {
        "state": "normal"
      },
      "cell_type": "markdown",
      "source": "When we utilize conditions like the example above, every statement depends on the result of the evaluation of a **logical statement**. In this case, the **logical statement** is `x > 100`. This statement has a result that is a boolean value, as we can see if we ask Python to evaluate it as a standalone statement:"
    },
    {
      "metadata": {
        "state": "normal",
        "trusted": false
      },
      "cell_type": "code",
      "source": "x > 100",
      "execution_count": 4,
      "outputs": [
        {
          "data": {},
          "execution_count": 4,
          "metadata": {},
          "output_type": "execute_result"
        }
      ]
    },
    {
      "metadata": {
        "state": "normal"
      },
      "cell_type": "markdown",
      "source": "When we use `if` statements, we will *always* need logical statements. We can write the logical statement inline, like we just did, or we can evaluate the truth of any prior statement. Let's look at another helpful example of an `if` statement using existing values:"
    },
    {
      "metadata": {
        "state": "normal",
        "trusted": false
      },
      "cell_type": "code",
      "source": "x = 150\ny = 200\n\nxBigger = x > y\nxBig = x > 100\n\nif xBig & xBigger:\n    print(\"That is a REALLY big number\")\nelif xBig:\n    print(\"x is big, but not THAT big\")\nelse:\n    print(\"x isn't really that big\")",
      "execution_count": 5,
      "outputs": []
    },
    {
      "metadata": {
        "state": "normal"
      },
      "cell_type": "markdown",
      "source": "Here we take two numbers (`x` and `y`), and use two logical statements (`x > y` and `x > 100`) to evaluate several possible outcomes. First, we check if both conditions are true using the statement `xBig & xBigger`. If both are `True`, then we print the statement assigned to the `if` block.\n\nNext, we incorporate the keyword `elif`. `elif` is a keyword that *continues* an `if` statement. It tells Python to evaluate it's truthiness if the condition above it fails. In other words, the `elif` statement is only evaluated in this case when `xBig & xBigger` is `False`. If the `elif` statement is evaluated as `True`, then its assigned print statement is executed and we skip the `else` block that follows.\n\nIf the `elif` statement is *also* `False`, then we reach the `else` statement, which is automatically executed and prints the final print statement. `else` indicates that the code should associated with it should be run when all previous logical statements in the block are evaluated as `False`. It will not run if *any* of the previous statements evaluate as `True`.\n\nWhen writing logical blocks, we always write our code in the following order: \n\n1) Write an `if` statement, and its corresponding code block \n\n2) If needed, write as many `elif` statements as needed, along with their corresponding code blocks. **NOTE**: `elif` statements will be evaluated from top to bottom in the code, and once a single `elif` statement is evaluated as `True`, none of the subsequent `elif` statements will be evaluated. Put your `elif` statements in the order that you want them to be prioritized! \n\n3) If needed, write an `else` statement that will apply to all events not covered by `if` or `elif` statements"
    },
    {
      "metadata": {},
      "cell_type": "markdown",
      "source": "**Solve it**: (from *The Python Workbook*)\n\nThe following table lists the sound level in decibels for several common noises.\n\n| Noise | Decibel Level (dB) |\n|---|---|\n| Jackhammer | 130 |\n| Gas Lawnmower | 106 |\n| Alarm Clock | 70 |\n| Quiet Room | 40 |\n\n\nIn the cell below, write code that reads a sound level in decibels from the user. If the user\nenters a decibel level that matches one of the noises in the table then your program should display a message containing only that noise. If the user enters a number of decibels between the noises listed then your program should display a message indicating which noises the level is between. Ensure that your program also generates reasonable output for a value smaller than the quietest noise in the table, and for a value larger than the loudest noise in the table."
    },
    {
      "metadata": {
        "state": "graded",
        "id": "aged_ran",
        "deletable": false,
        "starter_code": "# Leave this line to collect input from the user\nx = int(input(\"Enter a noise level (in dB): \"))",
        "trusted": true
      },
      "cell_type": "code",
      "source": "x = int(input(\"Enter a noise level (in dB): \"))\n\nif x>130:\n    print(\"Louder than a jackhammer\")\nelif x==130:\n    print(\"As loud as a jackhammer\")\nelif 106 < x < 130:\n    print(\"Louder than a gas lawnmower, quieter than a jackhammer\")\nelif x==106:\n    print(\"As loud as a gas lawnmower\")\nelif 70 < x < 106:\n    print(\"Louder than an alarm clock, quieter than a gas lawnmower\")\nelif x==70:\n    print(\"As loud as an alarm clock\")\nelif 40 < x < 70:\n    print(\"Louder than a quiet room, quieter than an alarm clock\")\nelif x==40:\n    print(\"As loud as a quiet room\")\nelse:\n    print(\"Quieter than a quiet room\")\n",
      "execution_count": null,
      "outputs": []
    },
    {
      "metadata": {
        "state": "normal"
      },
      "cell_type": "markdown",
      "source": "**Solve it**:\n\nIn the cell below, write a set of conditions that will check the value of `x`, then print the word for any number from 0 to 10 in Finnish:\nnolla [0], yksi [1], kaksi [2], kolme [3], neljä [4], viisi [5], kuusi [6], seitsemän [7], kahdeksan [8], yhdeksän [9], and kymmenen [10].\n\nIf the number is outside of this range, then just print \"out of range!\""
    },
    {
      "metadata": {
        "state": "graded",
        "id": "green_tyr",
        "deletable": false,
        "starter_code": "# Make sure your answer works with other values of x, as well!\nx = 5\n",
        "trusted": false
      },
      "cell_type": "code",
      "source": "x = int(input(\"Enter a number: \"))\n\nif x == 0:\n    print(\"nolla\")\nelif x==1:\n    print(\"yksi\")\nelif x==2:\n    print(\"kaksi\")\nelif x==3:\n    print(\"kolme\")\nelif x==4:\n    print(\"neljä\")\nelif x==5:\n    print(\"viisi\")\nelif x==6:\n    print(\"kuusi\")\nelif x==7:\n    print(\"seitsemän\")\nelif x==8:\n    print(\"kahdeksan\")\nelif x==9:\n    print(\"yhdeksän\")\nelif x==10:\n    print(\"kymmenen\")\nelse:\n    print(\"out of range!\")",
      "execution_count": 1,
      "outputs": [
        {
          "output_type": "stream",
          "text": "viisi\n",
          "name": "stdout"
        }
      ]
    },
    {
      "metadata": {
        "state": "normal"
      },
      "cell_type": "markdown",
      "source": "## Loops"
    },
    {
      "metadata": {
        "state": "normal"
      },
      "cell_type": "markdown",
      "source": "Just a minute ago, we thought about a problem where we might need to check each record in a data set for valid entries. If we want to accomplish this kind of task, we need to write code that will check the first line, then the second line, then the third line, etc. We can do this by hand, of course. Imagine a list of entries stored in the variable `forecastData`, where we need to make sure that each record is above 40 but below 50. Checking each value manually for validity might look something like the code below:"
    },
    {
      "metadata": {
        "state": "normal",
        "trusted": false
      },
      "cell_type": "code",
      "source": "forecastData = [49.5, 40.2, 53.7, 48.9, 51.0]\n\nif (forecastData[0] > 40) & (forecastData[0] < 50):\n    print(True)\nelse:\n    print(False)\n    \nif (forecastData[1] > 40) & (forecastData[1] < 50):\n    print(True)\nelse:\n    print(False)\n    \nif (forecastData[2] > 40) & (forecastData[2] < 50):\n    print(True)\nelse:\n    print(False)\n    \nif (forecastData[3] > 40) & (forecastData[3] < 50):\n    print(True)\nelse:\n    print(False)\n    \nif (forecastData[4] > 40) & (forecastData[4] < 50):\n    print(True)\nelse:\n    print(False)",
      "execution_count": 2,
      "outputs": []
    },
    {
      "metadata": {
        "state": "normal"
      },
      "cell_type": "markdown",
      "source": "That is a LOT of redundant code. Does it work? Sure. But what happens when I need to fix it? As I typed those lines, I did some copying and pasting, and then noticed that I made a few typos. At that point, I had to fix the typos and then copy and paste the corrected code again. Not ideal, but functional. Then I did it again! And again, it was frustrating to fix each of the iterations of the code.\n\nWhile convenience is important, it is also much more likely when I am copying and pasting code over and over that I will make mistakes than if I just have to write one version of the code that would work for each of the lines of my list.\n\nWhat we are doing when we write logic like the code above is called **looping**. We are writing code that will iteratively work its way through each specified record, and will **loop** through the same logic for each of those records. Wouldn't it be easier if we could just specify the pattern of behavior we expect, and not have to walk our program through each specific iteration?\n\nYes. Yes it would.\n\n### For Loops\n\nThe most common type of loop used in Python is a `for` loop. They are convenient and safe, as you will soon learn. Let's write a loop for the problem above."
    },
    {
      "metadata": {
        "state": "normal",
        "trusted": false
      },
      "cell_type": "code",
      "source": "forecastData = [49.5, 40.2, 53.7, 48.9, 51.0]\n\nfor i in forecastData:\n    if (i > 40) & (i < 50):\n        print(True)\n    else:\n        print(False)",
      "execution_count": 3,
      "outputs": []
    },
    {
      "metadata": {
        "state": "normal"
      },
      "cell_type": "markdown",
      "source": "That was way easier! But really, what did we just do?\n\nThe structure of our `for` loop above is the standard format. It translates to English in the following way: \"For every element (call it `i`) in the object `forecastData`, do the following:\". We even end it with a colon like we would in English!\n\n`i` becomes a **placeholder**, or a variable that will be temporarily assigned each time our loop goes to work. It will use each entry in `forecastData` one time, and while a given entry is being used, it will have the nickname `i`. That way, we can write all the code in our loop to describe what should happen to `i`. Then, in each pass of the loop, `i` takes the next value, and we follow the same set of instructions. In this case, we are just checking that our variables meet the established criteria, and then printing `True` if they do, or `False` if they don't.\n\nOne awesome side effect of this version of loops is that we can easily update our loop if there is a mistake or change to the pattern, and we only have to do so ONE time! No copying and pasting, and less risk of accidental errors popping up in our code."
    },
    {
      "metadata": {
        "state": "normal"
      },
      "cell_type": "markdown",
      "source": "**Solve it**:\n\nWrite a for loop that will print out each word in the following list one by one:\n`[\"A\",\"Long\",\"Time\",\"Ago\",\"In\",\"A\",\"Galaxy\",\"Far\",\"Far\",\"Away\"]`"
    },
    {
      "metadata": {
        "state": "graded",
        "id": "tiny_var",
        "deletable": false,
        "starter_code": "wordList = [\"A\",\"Long\",\"Time\",\"Ago\",\"In\",\"A\",\"Galaxy\",\"Far\",\"Far\",\"Away\"]",
        "trusted": false
      },
      "cell_type": "code",
      "source": "wordList = [\"A\",\"Long\",\"Time\",\"Ago\",\"In\",\"A\",\"Galaxy\",\"Far\",\"Far\",\"Away\"]\n\nfor i in wordList:\n    print(i)",
      "execution_count": 2,
      "outputs": [
        {
          "output_type": "stream",
          "text": "A\nLong\nTime\nAgo\nIn\nA\nGalaxy\nFar\nFar\nAway\n",
          "name": "stdout"
        }
      ]
    },
    {
      "metadata": {
        "state": "normal"
      },
      "cell_type": "markdown",
      "source": "### List Comprehensions\n\nAnother great way to write a for loop is to use **list comprehensions**, or lists containing loop syntax that can generate a list as a result of the loop! It is a compact and effective way to get your concept into list form:"
    },
    {
      "metadata": {
        "state": "normal",
        "trusted": false
      },
      "cell_type": "code",
      "source": "forecastData = [49.5, 40.2, 53.7, 48.9, 51.0]\n\n# Use a list comprehension to evaluate the conditions from our old for loop\nmeetsCondition = [(i > 40) & (i < 50) for i in forecastData]\n\nprint(meetsCondition)",
      "execution_count": 1,
      "outputs": []
    },
    {
      "metadata": {
        "state": "normal"
      },
      "cell_type": "markdown",
      "source": "In this list comprehension, we are able to use a *single line* to write out our previous `for` loop, and then we can simply print our results by printing out the list itself. List comprehensions can provide us a quick way to make all sorts of lists:"
    },
    {
      "metadata": {
        "state": "normal",
        "trusted": false
      },
      "cell_type": "code",
      "source": "# Make a list of integers from 0 to 9\nquickList = [i for i in range(10)]\n\nprint(\"List from 0 to 9\", quickList, \"\\n\")\n\n# Make a list that prints all numbers divisible by 3\n\nanotherList = [i for i in range(100) if i%3==0]\n\nprint(\"List of multiples of 3\", anotherList)",
      "execution_count": 11,
      "outputs": []
    },
    {
      "metadata": {
        "state": "normal"
      },
      "cell_type": "markdown",
      "source": "As we can see from that second example, we can even include statements that allow us to use `if` statements and control which elements are included within our list comprehension.\n\nComprehensions are frequently used to streamline code, and can make our work much easier to read if a for statement is simply intended to transform data based on a fixed pattern for all elements in an existing list or other iterable."
    },
    {
      "metadata": {
        "state": "normal"
      },
      "cell_type": "markdown",
      "source": "**Solve it**:\n\nWrite a list comprehension to find all numbers between 0 and 1000 with the number 4 in them, and store the resulting list as the variable `fours`"
    },
    {
      "metadata": {
        "state": "graded",
        "id": "eager_loki",
        "deletable": false,
        "trusted": false
      },
      "cell_type": "code",
      "source": "fours = [i for i in range(1000) if (i%10==4) or ((i%100-i%10)/10==4) or ((i%1000-i%100-i%10)/100==4)]",
      "execution_count": 15,
      "outputs": []
    },
    {
      "metadata": {
        "state": "normal"
      },
      "cell_type": "markdown",
      "source": "### While Loops\n\nAnother kind of loop that is used in some contexts is a `while` loop. `while` loops differ significantly from `for` loops in their intended use: a `for` loop is designed to execute a determined number of iterations, whereas a `while` loop is designed to execute code repeatedly until a **stopping condition** is met. This means that we can allow a `while` loop to repeat indefinitely. \n\nA **stopping rule** is the logical statement that is checked before each iteration of a `while` loop. Whenever this condition is evaluated as `True`, then the loop is executed. When the condition is evaluated as `False`, the loop is terminated and the program advances to subsequent commands. This is where the term **infinite loop** comes from! If we forget to update our stopping condition within our `while` loop, then it will never stop, because we never tell it to stop. It is **really** important to remember this when we are writing `while` loops, or we will probably crash our program if not our computer.\n\nA fun example of a while loop would be writing a function to prompt the user to add numbers until the sum is above 42:"
    },
    {
      "metadata": {
        "state": "normal",
        "trusted": false
      },
      "cell_type": "code",
      "source": "total = 0\nwhile (total<=42):\n    total += float(input(\"Please enter a number:\"))\n    print(total)",
      "execution_count": 15,
      "outputs": []
    },
    {
      "metadata": {
        "state": "normal"
      },
      "cell_type": "markdown",
      "source": "In reality, we would probably use `while` loops for significantly more difficult problems than our toy example. `while` loops are valuable in cases where we are seeking convergence such as dynamic programming, search models, and optimization problems in the context of statistical models."
    },
    {
      "metadata": {
        "state": "normal"
      },
      "cell_type": "markdown",
      "source": "**Solve it**:\n\nWrite a while loop that takes `x` and subtracts 10 while `x` is still above 100."
    },
    {
      "metadata": {
        "state": "graded",
        "id": "high_loki",
        "deletable": false,
        "starter_code": "# Test your code with the following x value:\nx = 432",
        "trusted": false
      },
      "cell_type": "code",
      "source": "x = 432\n\nwhile x>100:\n    x-=10",
      "execution_count": 16,
      "outputs": []
    }
  ],
  "metadata": {
    "kernelspec": {
      "name": "python3",
      "display_name": "Python 3",
      "language": "python"
    },
    "language_info": {
      "name": "python",
      "version": "3.7.3",
      "mimetype": "text/x-python",
      "codemirror_mode": {
        "name": "ipython",
        "version": 3
      },
      "pygments_lexer": "ipython3",
      "nbconvert_exporter": "python",
      "file_extension": ".py"
    },
    "mimir": {
      "project_id": "be7600ad-0d7f-4396-b010-4a1053261967",
      "last_submission_id": "",
      "data": {}
    },
    "varInspector": {
      "window_display": false,
      "cols": {
        "lenName": 16,
        "lenType": 16,
        "lenVar": 40
      },
      "kernels_config": {
        "python": {
          "library": "var_list.py",
          "delete_cmd_prefix": "del ",
          "delete_cmd_postfix": "",
          "varRefreshCmd": "print(var_dic_list())"
        },
        "r": {
          "library": "var_list.r",
          "delete_cmd_prefix": "rm(",
          "delete_cmd_postfix": ") ",
          "varRefreshCmd": "cat(var_dic_list()) "
        }
      },
      "types_to_exclude": [
        "module",
        "function",
        "builtin_function_or_method",
        "instance",
        "_Feature"
      ]
    }
  },
  "nbformat": 4,
  "nbformat_minor": 2
}